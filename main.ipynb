{
 "cells": [
  {
   "cell_type": "code",
   "execution_count": 1,
   "metadata": {
    "collapsed": true,
    "ExecuteTime": {
     "end_time": "2023-12-20T16:19:03.617475Z",
     "start_time": "2023-12-20T16:19:02.781179Z"
    }
   },
   "outputs": [],
   "source": [
    "import pandas as pd\n",
    "import warnings\n",
    "warnings.filterwarnings('ignore')\n",
    "\n",
    "\n",
    "data = pd.read_csv('games.csv')\n",
    "data.columns\n",
    "data.rename( columns={'Unnamed: 0':'index'}, inplace=True )"
   ]
  },
  {
   "cell_type": "code",
   "execution_count": 2,
   "outputs": [
    {
     "data": {
      "text/plain": "Empty DataFrame\nColumns: [index, Title, Release Date, Team, Rating, Times Listed, Number of Reviews, Genres, Summary, Reviews, Plays, Playing, Backlogs, Wishlist]\nIndex: []",
      "text/html": "<div>\n<style scoped>\n    .dataframe tbody tr th:only-of-type {\n        vertical-align: middle;\n    }\n\n    .dataframe tbody tr th {\n        vertical-align: top;\n    }\n\n    .dataframe thead th {\n        text-align: right;\n    }\n</style>\n<table border=\"1\" class=\"dataframe\">\n  <thead>\n    <tr style=\"text-align: right;\">\n      <th></th>\n      <th>index</th>\n      <th>Title</th>\n      <th>Release Date</th>\n      <th>Team</th>\n      <th>Rating</th>\n      <th>Times Listed</th>\n      <th>Number of Reviews</th>\n      <th>Genres</th>\n      <th>Summary</th>\n      <th>Reviews</th>\n      <th>Plays</th>\n      <th>Playing</th>\n      <th>Backlogs</th>\n      <th>Wishlist</th>\n    </tr>\n  </thead>\n  <tbody>\n  </tbody>\n</table>\n</div>"
     },
     "execution_count": 2,
     "metadata": {},
     "output_type": "execute_result"
    }
   ],
   "source": [
    "data[data['Times Listed'] != data['Number of Reviews']]"
   ],
   "metadata": {
    "collapsed": false,
    "ExecuteTime": {
     "end_time": "2023-12-20T16:19:03.652145Z",
     "start_time": "2023-12-20T16:19:03.622837Z"
    }
   }
  },
  {
   "cell_type": "code",
   "execution_count": 3,
   "outputs": [],
   "source": [
    "data = data.drop(columns='Times Listed')"
   ],
   "metadata": {
    "collapsed": false,
    "ExecuteTime": {
     "end_time": "2023-12-20T16:19:03.674168Z",
     "start_time": "2023-12-20T16:19:03.646144Z"
    }
   }
  },
  {
   "cell_type": "code",
   "execution_count": 4,
   "outputs": [],
   "source": [
    "data = data.drop(columns='Reviews')"
   ],
   "metadata": {
    "collapsed": false,
    "ExecuteTime": {
     "end_time": "2023-12-20T16:19:03.741542Z",
     "start_time": "2023-12-20T16:19:03.656138Z"
    }
   }
  },
  {
   "cell_type": "code",
   "execution_count": 5,
   "outputs": [
    {
     "data": {
      "text/plain": "      index                                    Title  Release Date  \\\n326     326                               Elden Ring  Feb 25, 2022   \n327     327                                    Hades  Dec 10, 2019   \n328     328  The Legend of Zelda: Breath of the Wild  Mar 03, 2017   \n329     329                                Undertale  Sep 15, 2015   \n330     330                            Hollow Knight  Feb 24, 2017   \n...     ...                                      ...           ...   \n1268   1268          Bloodstained: Curse of the Moon  May 23, 2018   \n1269   1269                     Final Fantasy XIII-2  Dec 15, 2011   \n1270   1270                                  Agar.io  Apr 28, 2015   \n1271   1271        Fatal Frame II: Crimson Butterfly  Nov 27, 2003   \n1496   1496                                  FIFA 13  Sep 25, 2012   \n\n                                                   Team  Rating  \\\n326      ['Bandai Namco Entertainment', 'FromSoftware']     4.5   \n327                                ['Supergiant Games']     4.3   \n328   ['Nintendo', 'Nintendo EPD Production Group No...     4.4   \n329                                  ['tobyfox', '8-4']     4.2   \n330                                     ['Team Cherry']     4.4   \n...                                                 ...     ...   \n1268                                   ['Inti Creates']     3.6   \n1269                                    ['Square Enix']     3.3   \n1270              ['Miniclip.com', 'Matheus Valadares']     2.2   \n1271       ['Tecmo Co., Ltd.', 'Ubisoft Entertainment']     4.2   \n1496                   ['Electronic Arts', 'EA Canada']     3.2   \n\n     Number of Reviews                                             Genres  \\\n326               3.9K                               ['Adventure', 'RPG']   \n327               2.9K           ['Adventure', 'Brawler', 'Indie', 'RPG']   \n328               4.3K                               ['Adventure', 'RPG']   \n329               3.5K  ['Adventure', 'Indie', 'RPG', 'Turn Based Stra...   \n330                 3K                 ['Adventure', 'Indie', 'Platform']   \n...                ...                                                ...   \n1268               341                 ['Adventure', 'Indie', 'Platform']   \n1269               482                               ['Adventure', 'RPG']   \n1270                81                              ['Indie', 'Strategy']   \n1271               398                                      ['Adventure']   \n1496                62                             ['Simulator', 'Sport']   \n\n                                                Summary Plays Playing  \\\n326   Elden Ring is a fantasy, action and open world...   17K    3.8K   \n327   A rogue-lite hack and slash dungeon crawler in...   21K    3.2K   \n328   The Legend of Zelda: Breath of the Wild is the...   30K    2.5K   \n329   A small child falls into the Underground, wher...   28K     679   \n330   A 2D metroidvania with an emphasis on close co...   21K    2.4K   \n...                                                 ...   ...     ...   \n1268  “Bloodstained: Curse of the Moon” is packed wi...  2.3K      41   \n1269  FINAL FANTASY XIII-2 is created with the aim o...  2.3K      58   \n1270  Agar.io is a Massively-multiplayer top-down st...  4.4K       8   \n1271  Crimson Butterfly is the second installment in...    1K      38   \n1496  FIFA 13 captures the drama and unpredictabilit...  1.6K       2   \n\n     Backlogs Wishlist  \n326      4.6K     4.8K  \n327      6.3K     3.6K  \n328        5K     2.6K  \n329      4.9K     1.8K  \n330      8.3K     2.3K  \n...       ...      ...  \n1268      800      397  \n1269     1.4K      449  \n1270       40       12  \n1271      690      513  \n1496       34       12  \n\n[395 rows x 12 columns]",
      "text/html": "<div>\n<style scoped>\n    .dataframe tbody tr th:only-of-type {\n        vertical-align: middle;\n    }\n\n    .dataframe tbody tr th {\n        vertical-align: top;\n    }\n\n    .dataframe thead th {\n        text-align: right;\n    }\n</style>\n<table border=\"1\" class=\"dataframe\">\n  <thead>\n    <tr style=\"text-align: right;\">\n      <th></th>\n      <th>index</th>\n      <th>Title</th>\n      <th>Release Date</th>\n      <th>Team</th>\n      <th>Rating</th>\n      <th>Number of Reviews</th>\n      <th>Genres</th>\n      <th>Summary</th>\n      <th>Plays</th>\n      <th>Playing</th>\n      <th>Backlogs</th>\n      <th>Wishlist</th>\n    </tr>\n  </thead>\n  <tbody>\n    <tr>\n      <th>326</th>\n      <td>326</td>\n      <td>Elden Ring</td>\n      <td>Feb 25, 2022</td>\n      <td>['Bandai Namco Entertainment', 'FromSoftware']</td>\n      <td>4.5</td>\n      <td>3.9K</td>\n      <td>['Adventure', 'RPG']</td>\n      <td>Elden Ring is a fantasy, action and open world...</td>\n      <td>17K</td>\n      <td>3.8K</td>\n      <td>4.6K</td>\n      <td>4.8K</td>\n    </tr>\n    <tr>\n      <th>327</th>\n      <td>327</td>\n      <td>Hades</td>\n      <td>Dec 10, 2019</td>\n      <td>['Supergiant Games']</td>\n      <td>4.3</td>\n      <td>2.9K</td>\n      <td>['Adventure', 'Brawler', 'Indie', 'RPG']</td>\n      <td>A rogue-lite hack and slash dungeon crawler in...</td>\n      <td>21K</td>\n      <td>3.2K</td>\n      <td>6.3K</td>\n      <td>3.6K</td>\n    </tr>\n    <tr>\n      <th>328</th>\n      <td>328</td>\n      <td>The Legend of Zelda: Breath of the Wild</td>\n      <td>Mar 03, 2017</td>\n      <td>['Nintendo', 'Nintendo EPD Production Group No...</td>\n      <td>4.4</td>\n      <td>4.3K</td>\n      <td>['Adventure', 'RPG']</td>\n      <td>The Legend of Zelda: Breath of the Wild is the...</td>\n      <td>30K</td>\n      <td>2.5K</td>\n      <td>5K</td>\n      <td>2.6K</td>\n    </tr>\n    <tr>\n      <th>329</th>\n      <td>329</td>\n      <td>Undertale</td>\n      <td>Sep 15, 2015</td>\n      <td>['tobyfox', '8-4']</td>\n      <td>4.2</td>\n      <td>3.5K</td>\n      <td>['Adventure', 'Indie', 'RPG', 'Turn Based Stra...</td>\n      <td>A small child falls into the Underground, wher...</td>\n      <td>28K</td>\n      <td>679</td>\n      <td>4.9K</td>\n      <td>1.8K</td>\n    </tr>\n    <tr>\n      <th>330</th>\n      <td>330</td>\n      <td>Hollow Knight</td>\n      <td>Feb 24, 2017</td>\n      <td>['Team Cherry']</td>\n      <td>4.4</td>\n      <td>3K</td>\n      <td>['Adventure', 'Indie', 'Platform']</td>\n      <td>A 2D metroidvania with an emphasis on close co...</td>\n      <td>21K</td>\n      <td>2.4K</td>\n      <td>8.3K</td>\n      <td>2.3K</td>\n    </tr>\n    <tr>\n      <th>...</th>\n      <td>...</td>\n      <td>...</td>\n      <td>...</td>\n      <td>...</td>\n      <td>...</td>\n      <td>...</td>\n      <td>...</td>\n      <td>...</td>\n      <td>...</td>\n      <td>...</td>\n      <td>...</td>\n      <td>...</td>\n    </tr>\n    <tr>\n      <th>1268</th>\n      <td>1268</td>\n      <td>Bloodstained: Curse of the Moon</td>\n      <td>May 23, 2018</td>\n      <td>['Inti Creates']</td>\n      <td>3.6</td>\n      <td>341</td>\n      <td>['Adventure', 'Indie', 'Platform']</td>\n      <td>“Bloodstained: Curse of the Moon” is packed wi...</td>\n      <td>2.3K</td>\n      <td>41</td>\n      <td>800</td>\n      <td>397</td>\n    </tr>\n    <tr>\n      <th>1269</th>\n      <td>1269</td>\n      <td>Final Fantasy XIII-2</td>\n      <td>Dec 15, 2011</td>\n      <td>['Square Enix']</td>\n      <td>3.3</td>\n      <td>482</td>\n      <td>['Adventure', 'RPG']</td>\n      <td>FINAL FANTASY XIII-2 is created with the aim o...</td>\n      <td>2.3K</td>\n      <td>58</td>\n      <td>1.4K</td>\n      <td>449</td>\n    </tr>\n    <tr>\n      <th>1270</th>\n      <td>1270</td>\n      <td>Agar.io</td>\n      <td>Apr 28, 2015</td>\n      <td>['Miniclip.com', 'Matheus Valadares']</td>\n      <td>2.2</td>\n      <td>81</td>\n      <td>['Indie', 'Strategy']</td>\n      <td>Agar.io is a Massively-multiplayer top-down st...</td>\n      <td>4.4K</td>\n      <td>8</td>\n      <td>40</td>\n      <td>12</td>\n    </tr>\n    <tr>\n      <th>1271</th>\n      <td>1271</td>\n      <td>Fatal Frame II: Crimson Butterfly</td>\n      <td>Nov 27, 2003</td>\n      <td>['Tecmo Co., Ltd.', 'Ubisoft Entertainment']</td>\n      <td>4.2</td>\n      <td>398</td>\n      <td>['Adventure']</td>\n      <td>Crimson Butterfly is the second installment in...</td>\n      <td>1K</td>\n      <td>38</td>\n      <td>690</td>\n      <td>513</td>\n    </tr>\n    <tr>\n      <th>1496</th>\n      <td>1496</td>\n      <td>FIFA 13</td>\n      <td>Sep 25, 2012</td>\n      <td>['Electronic Arts', 'EA Canada']</td>\n      <td>3.2</td>\n      <td>62</td>\n      <td>['Simulator', 'Sport']</td>\n      <td>FIFA 13 captures the drama and unpredictabilit...</td>\n      <td>1.6K</td>\n      <td>2</td>\n      <td>34</td>\n      <td>12</td>\n    </tr>\n  </tbody>\n</table>\n<p>395 rows × 12 columns</p>\n</div>"
     },
     "execution_count": 5,
     "metadata": {},
     "output_type": "execute_result"
    }
   ],
   "source": [
    "data[data.duplicated(subset=[\"Title\", \"Release Date\"])]"
   ],
   "metadata": {
    "collapsed": false,
    "ExecuteTime": {
     "end_time": "2023-12-20T16:19:03.769121Z",
     "start_time": "2023-12-20T16:19:03.683189Z"
    }
   }
  },
  {
   "cell_type": "code",
   "execution_count": 6,
   "outputs": [],
   "source": [
    "data = data.drop_duplicates(subset=[\"Title\", \"Release Date\"])"
   ],
   "metadata": {
    "collapsed": false,
    "ExecuteTime": {
     "end_time": "2023-12-20T16:19:03.769613Z",
     "start_time": "2023-12-20T16:19:03.691193Z"
    }
   }
  },
  {
   "cell_type": "code",
   "execution_count": 7,
   "outputs": [
    {
     "data": {
      "text/plain": "     index      Title  Release Date                Team  Rating  \\\n5        5  Minecraft  Nov 18, 2011  ['Mojang Studios']     4.3   \n925    925  Minecraft  Sep 20, 2017  ['Mojang Studios']     4.2   \n\n    Number of Reviews                      Genres  \\\n5                2.3K  ['Adventure', 'Simulator']   \n925               571  ['Adventure', 'Simulator']   \n\n                                               Summary Plays Playing Backlogs  \\\n5    Minecraft focuses on allowing the player to ex...   33K    1.8K     1.1K   \n925  Minecraft focuses on allowing the player to ex...   11K     509      412   \n\n    Wishlist  \n5        230  \n925       85  ",
      "text/html": "<div>\n<style scoped>\n    .dataframe tbody tr th:only-of-type {\n        vertical-align: middle;\n    }\n\n    .dataframe tbody tr th {\n        vertical-align: top;\n    }\n\n    .dataframe thead th {\n        text-align: right;\n    }\n</style>\n<table border=\"1\" class=\"dataframe\">\n  <thead>\n    <tr style=\"text-align: right;\">\n      <th></th>\n      <th>index</th>\n      <th>Title</th>\n      <th>Release Date</th>\n      <th>Team</th>\n      <th>Rating</th>\n      <th>Number of Reviews</th>\n      <th>Genres</th>\n      <th>Summary</th>\n      <th>Plays</th>\n      <th>Playing</th>\n      <th>Backlogs</th>\n      <th>Wishlist</th>\n    </tr>\n  </thead>\n  <tbody>\n    <tr>\n      <th>5</th>\n      <td>5</td>\n      <td>Minecraft</td>\n      <td>Nov 18, 2011</td>\n      <td>['Mojang Studios']</td>\n      <td>4.3</td>\n      <td>2.3K</td>\n      <td>['Adventure', 'Simulator']</td>\n      <td>Minecraft focuses on allowing the player to ex...</td>\n      <td>33K</td>\n      <td>1.8K</td>\n      <td>1.1K</td>\n      <td>230</td>\n    </tr>\n    <tr>\n      <th>925</th>\n      <td>925</td>\n      <td>Minecraft</td>\n      <td>Sep 20, 2017</td>\n      <td>['Mojang Studios']</td>\n      <td>4.2</td>\n      <td>571</td>\n      <td>['Adventure', 'Simulator']</td>\n      <td>Minecraft focuses on allowing the player to ex...</td>\n      <td>11K</td>\n      <td>509</td>\n      <td>412</td>\n      <td>85</td>\n    </tr>\n  </tbody>\n</table>\n</div>"
     },
     "execution_count": 7,
     "metadata": {},
     "output_type": "execute_result"
    }
   ],
   "source": [
    "data[data.Title == \"Minecraft\"]"
   ],
   "metadata": {
    "collapsed": false,
    "ExecuteTime": {
     "end_time": "2023-12-20T16:19:03.769988Z",
     "start_time": "2023-12-20T16:19:03.710160Z"
    }
   }
  },
  {
   "cell_type": "code",
   "execution_count": 8,
   "outputs": [],
   "source": [
    "data = data.drop(columns='Team')"
   ],
   "metadata": {
    "collapsed": false,
    "ExecuteTime": {
     "end_time": "2023-12-20T16:19:03.770318Z",
     "start_time": "2023-12-20T16:19:03.718111Z"
    }
   }
  },
  {
   "cell_type": "code",
   "execution_count": 9,
   "outputs": [
    {
     "data": {
      "text/plain": "      index                                    Title  Release Date  Rating  \\\n0         0                               Elden Ring  Feb 25, 2022     4.5   \n1         1                                    Hades  Dec 10, 2019     4.3   \n2         2  The Legend of Zelda: Breath of the Wild  Mar 03, 2017     4.4   \n3         3                                Undertale  Sep 15, 2015     4.2   \n4         4                            Hollow Knight  Feb 24, 2017     4.4   \n...     ...                                      ...           ...     ...   \n1507   1507             Back to the Future: The Game  Dec 22, 2010     3.2   \n1508   1508                        Team Sonic Racing  May 21, 2019     2.9   \n1509   1509                           Dragon's Dogma  May 22, 2012     3.7   \n1510   1510                          Baldur's Gate 3  Oct 06, 2020     4.1   \n1511   1511                 The LEGO Movie Videogame  Feb 04, 2014     2.8   \n\n     Number of Reviews                                             Genres  \\\n0                 3.9K                               ['Adventure', 'RPG']   \n1                 2.9K           ['Adventure', 'Brawler', 'Indie', 'RPG']   \n2                 4.3K                               ['Adventure', 'RPG']   \n3                 3.5K  ['Adventure', 'Indie', 'RPG', 'Turn Based Stra...   \n4                   3K                 ['Adventure', 'Indie', 'Platform']   \n...                ...                                                ...   \n1507                94                   ['Adventure', 'Point-and-Click']   \n1508               264                               ['Arcade', 'Racing']   \n1509               210                                 ['Brawler', 'RPG']   \n1510               165  ['Adventure', 'RPG', 'Strategy', 'Tactical', '...   \n1511               184                            ['Adventure', 'Puzzle']   \n\n                                                Summary Plays Playing  \\\n0     Elden Ring is a fantasy, action and open world...   17K    3.8K   \n1     A rogue-lite hack and slash dungeon crawler in...   21K    3.2K   \n2     The Legend of Zelda: Breath of the Wild is the...   30K    2.5K   \n3     A small child falls into the Underground, wher...   28K     679   \n4     A 2D metroidvania with an emphasis on close co...   21K    2.4K   \n...                                                 ...   ...     ...   \n1507  Back to the Future: The Game is one of Telltal...   763       5   \n1508  Team Sonic Racing combines the best elements o...  1.5K      49   \n1509  Set in a huge open world, Dragon’s Dogma: Dark...  1.1K      45   \n1510  An ancient evil has returned to Baldur's Gate,...   269      79   \n1511  Join Emmet and an unlikely group of resistance...  1.7K      11   \n\n     Backlogs Wishlist  \n0        4.6K     4.8K  \n1        6.3K     3.6K  \n2          5K     2.6K  \n3        4.9K     1.8K  \n4        8.3K     2.3K  \n...       ...      ...  \n1507      223       67  \n1508      413      107  \n1509      487      206  \n1510      388      602  \n1511      239       73  \n\n[1117 rows x 11 columns]",
      "text/html": "<div>\n<style scoped>\n    .dataframe tbody tr th:only-of-type {\n        vertical-align: middle;\n    }\n\n    .dataframe tbody tr th {\n        vertical-align: top;\n    }\n\n    .dataframe thead th {\n        text-align: right;\n    }\n</style>\n<table border=\"1\" class=\"dataframe\">\n  <thead>\n    <tr style=\"text-align: right;\">\n      <th></th>\n      <th>index</th>\n      <th>Title</th>\n      <th>Release Date</th>\n      <th>Rating</th>\n      <th>Number of Reviews</th>\n      <th>Genres</th>\n      <th>Summary</th>\n      <th>Plays</th>\n      <th>Playing</th>\n      <th>Backlogs</th>\n      <th>Wishlist</th>\n    </tr>\n  </thead>\n  <tbody>\n    <tr>\n      <th>0</th>\n      <td>0</td>\n      <td>Elden Ring</td>\n      <td>Feb 25, 2022</td>\n      <td>4.5</td>\n      <td>3.9K</td>\n      <td>['Adventure', 'RPG']</td>\n      <td>Elden Ring is a fantasy, action and open world...</td>\n      <td>17K</td>\n      <td>3.8K</td>\n      <td>4.6K</td>\n      <td>4.8K</td>\n    </tr>\n    <tr>\n      <th>1</th>\n      <td>1</td>\n      <td>Hades</td>\n      <td>Dec 10, 2019</td>\n      <td>4.3</td>\n      <td>2.9K</td>\n      <td>['Adventure', 'Brawler', 'Indie', 'RPG']</td>\n      <td>A rogue-lite hack and slash dungeon crawler in...</td>\n      <td>21K</td>\n      <td>3.2K</td>\n      <td>6.3K</td>\n      <td>3.6K</td>\n    </tr>\n    <tr>\n      <th>2</th>\n      <td>2</td>\n      <td>The Legend of Zelda: Breath of the Wild</td>\n      <td>Mar 03, 2017</td>\n      <td>4.4</td>\n      <td>4.3K</td>\n      <td>['Adventure', 'RPG']</td>\n      <td>The Legend of Zelda: Breath of the Wild is the...</td>\n      <td>30K</td>\n      <td>2.5K</td>\n      <td>5K</td>\n      <td>2.6K</td>\n    </tr>\n    <tr>\n      <th>3</th>\n      <td>3</td>\n      <td>Undertale</td>\n      <td>Sep 15, 2015</td>\n      <td>4.2</td>\n      <td>3.5K</td>\n      <td>['Adventure', 'Indie', 'RPG', 'Turn Based Stra...</td>\n      <td>A small child falls into the Underground, wher...</td>\n      <td>28K</td>\n      <td>679</td>\n      <td>4.9K</td>\n      <td>1.8K</td>\n    </tr>\n    <tr>\n      <th>4</th>\n      <td>4</td>\n      <td>Hollow Knight</td>\n      <td>Feb 24, 2017</td>\n      <td>4.4</td>\n      <td>3K</td>\n      <td>['Adventure', 'Indie', 'Platform']</td>\n      <td>A 2D metroidvania with an emphasis on close co...</td>\n      <td>21K</td>\n      <td>2.4K</td>\n      <td>8.3K</td>\n      <td>2.3K</td>\n    </tr>\n    <tr>\n      <th>...</th>\n      <td>...</td>\n      <td>...</td>\n      <td>...</td>\n      <td>...</td>\n      <td>...</td>\n      <td>...</td>\n      <td>...</td>\n      <td>...</td>\n      <td>...</td>\n      <td>...</td>\n      <td>...</td>\n    </tr>\n    <tr>\n      <th>1507</th>\n      <td>1507</td>\n      <td>Back to the Future: The Game</td>\n      <td>Dec 22, 2010</td>\n      <td>3.2</td>\n      <td>94</td>\n      <td>['Adventure', 'Point-and-Click']</td>\n      <td>Back to the Future: The Game is one of Telltal...</td>\n      <td>763</td>\n      <td>5</td>\n      <td>223</td>\n      <td>67</td>\n    </tr>\n    <tr>\n      <th>1508</th>\n      <td>1508</td>\n      <td>Team Sonic Racing</td>\n      <td>May 21, 2019</td>\n      <td>2.9</td>\n      <td>264</td>\n      <td>['Arcade', 'Racing']</td>\n      <td>Team Sonic Racing combines the best elements o...</td>\n      <td>1.5K</td>\n      <td>49</td>\n      <td>413</td>\n      <td>107</td>\n    </tr>\n    <tr>\n      <th>1509</th>\n      <td>1509</td>\n      <td>Dragon's Dogma</td>\n      <td>May 22, 2012</td>\n      <td>3.7</td>\n      <td>210</td>\n      <td>['Brawler', 'RPG']</td>\n      <td>Set in a huge open world, Dragon’s Dogma: Dark...</td>\n      <td>1.1K</td>\n      <td>45</td>\n      <td>487</td>\n      <td>206</td>\n    </tr>\n    <tr>\n      <th>1510</th>\n      <td>1510</td>\n      <td>Baldur's Gate 3</td>\n      <td>Oct 06, 2020</td>\n      <td>4.1</td>\n      <td>165</td>\n      <td>['Adventure', 'RPG', 'Strategy', 'Tactical', '...</td>\n      <td>An ancient evil has returned to Baldur's Gate,...</td>\n      <td>269</td>\n      <td>79</td>\n      <td>388</td>\n      <td>602</td>\n    </tr>\n    <tr>\n      <th>1511</th>\n      <td>1511</td>\n      <td>The LEGO Movie Videogame</td>\n      <td>Feb 04, 2014</td>\n      <td>2.8</td>\n      <td>184</td>\n      <td>['Adventure', 'Puzzle']</td>\n      <td>Join Emmet and an unlikely group of resistance...</td>\n      <td>1.7K</td>\n      <td>11</td>\n      <td>239</td>\n      <td>73</td>\n    </tr>\n  </tbody>\n</table>\n<p>1117 rows × 11 columns</p>\n</div>"
     },
     "execution_count": 9,
     "metadata": {},
     "output_type": "execute_result"
    }
   ],
   "source": [
    "data"
   ],
   "metadata": {
    "collapsed": false,
    "ExecuteTime": {
     "end_time": "2023-12-20T16:19:03.771049Z",
     "start_time": "2023-12-20T16:19:03.739294Z"
    }
   }
  },
  {
   "cell_type": "code",
   "execution_count": 10,
   "outputs": [],
   "source": [
    "from datetime import datetime\n",
    "\n",
    "date_format = \"%b %d, %Y\"\n",
    "\n",
    "for x in data.index:\n",
    "    date_string = data[\"Release Date\"][x]\n",
    "    if date_string == \"releases on TBD\":\n",
    "        data = data.drop([x])\n",
    "    else:\n",
    "        parsed_date = datetime.strptime(date_string, date_format).date().year\n",
    "        data.at[x, \"Release Date\"] = parsed_date\n"
   ],
   "metadata": {
    "collapsed": false,
    "ExecuteTime": {
     "end_time": "2023-12-20T16:19:03.977648Z",
     "start_time": "2023-12-20T16:19:03.798772Z"
    }
   }
  },
  {
   "cell_type": "code",
   "execution_count": 11,
   "outputs": [
    {
     "data": {
      "text/plain": "array([4.5, 4.3, 4.4, 4.2, 3. , 3.7, 4.1, 3.8, 3.3, 4.6, 2.6, 3.9, 4. ,\n       2.7, 3.6, 3.5, 3.2, 2.8, 2.1, 3.4, 3.1, 2.9, 2.5, 1.9, 2.4, 2.3,\n       nan, 1.2, 2.2, 1.6, 1.5, 2. , 1.4, 0.7, 1.8])"
     },
     "execution_count": 11,
     "metadata": {},
     "output_type": "execute_result"
    }
   ],
   "source": [
    "\n",
    "\n",
    "data.Rating.unique()"
   ],
   "metadata": {
    "collapsed": false,
    "ExecuteTime": {
     "end_time": "2023-12-20T16:19:04.031805Z",
     "start_time": "2023-12-20T16:19:03.877961Z"
    }
   }
  },
  {
   "cell_type": "code",
   "execution_count": 11,
   "outputs": [],
   "source": [],
   "metadata": {
    "collapsed": false,
    "ExecuteTime": {
     "end_time": "2023-12-20T16:19:04.044331Z",
     "start_time": "2023-12-20T16:19:03.885288Z"
    }
   }
  },
  {
   "cell_type": "code",
   "execution_count": 12,
   "outputs": [
    {
     "data": {
      "text/plain": "      index                                              Title Release Date  \\\n587     587                                  Final Fantasy XVI         2023   \n713     713                          Final Fantasy VII Rebirth         2023   \n719     719                                          Lies of P         2023   \n726     726                                              Judas         2025   \n746     746  Like a Dragon Gaiden: The Man Who Erased His Name         2023   \n972     972          The Legend of Zelda: Tears of the Kingdom         2023   \n1130   1130                           Star Wars Jedi: Survivor         2023   \n1160   1160            We Love Katamari Reroll + Royal Reverie         2023   \n1202   1202                                         Earthblade         2024   \n1305   1305                                          Diablo IV         2023   \n1341   1341                                   Pac-Man in a Tin         2023   \n1349   1349                                       Pokémon Añil         2023   \n\n      Rating Number of Reviews                           Genres  \\\n587      NaN               422                          ['RPG']   \n713      NaN               192                               []   \n719      NaN               175                          ['RPG']   \n726      NaN                90         ['Adventure', 'Shooter']   \n746      NaN               118  ['Adventure', 'Brawler', 'RPG']   \n972      NaN               581             ['Adventure', 'RPG']   \n1130     NaN               250                    ['Adventure']   \n1160     NaN                51          ['Adventure', 'Puzzle']   \n1202     NaN                83    ['Adventure', 'Indie', 'RPG']   \n1305     NaN               148               ['Brawler', 'RPG']   \n1341     NaN                 0                       ['Arcade']   \n1349     NaN                 2                          ['RPG']   \n\n                                                Summary Plays Playing  \\\n587   Final Fantasy XVI is an upcoming action role-p...    37      10   \n713   This next standalone chapter in the FINAL FANT...    20       3   \n719   Inspired by the familiar story of Pinocchio, L...     5       0   \n726   A disintegrating starship. A desperate escape ...     1       0   \n746   This game covers Kiryu's story between Yakuza ...     2       1   \n972   The Legend of Zelda: Tears of the Kingdom is t...    72       6   \n1130  The story of Cal Kestis continues in Star Wars...    13       2   \n1160  We Love Katamari Reroll + Royal Reverie is a r...     3       0   \n1202  You are Névoa, an enigmatic child of Fate retu...     0       1   \n1305  Endless demons to slaughter. Deep customizatio...    19      10   \n1341  Pac-Man in a Tin is a pocket-sized tin contain...     1       0   \n1349  Pokémon Añil is the fourth video game created ...     1       0   \n\n     Backlogs Wishlist  \n587       732     2.4K  \n713       354     1.1K  \n719       260      939  \n726        92      437  \n746       145      588  \n972      1.6K     5.4K  \n1130      367     1.4K  \n1160       74      291  \n1202      103      529  \n1305      179      677  \n1341        1        2  \n1349        1        7  ",
      "text/html": "<div>\n<style scoped>\n    .dataframe tbody tr th:only-of-type {\n        vertical-align: middle;\n    }\n\n    .dataframe tbody tr th {\n        vertical-align: top;\n    }\n\n    .dataframe thead th {\n        text-align: right;\n    }\n</style>\n<table border=\"1\" class=\"dataframe\">\n  <thead>\n    <tr style=\"text-align: right;\">\n      <th></th>\n      <th>index</th>\n      <th>Title</th>\n      <th>Release Date</th>\n      <th>Rating</th>\n      <th>Number of Reviews</th>\n      <th>Genres</th>\n      <th>Summary</th>\n      <th>Plays</th>\n      <th>Playing</th>\n      <th>Backlogs</th>\n      <th>Wishlist</th>\n    </tr>\n  </thead>\n  <tbody>\n    <tr>\n      <th>587</th>\n      <td>587</td>\n      <td>Final Fantasy XVI</td>\n      <td>2023</td>\n      <td>NaN</td>\n      <td>422</td>\n      <td>['RPG']</td>\n      <td>Final Fantasy XVI is an upcoming action role-p...</td>\n      <td>37</td>\n      <td>10</td>\n      <td>732</td>\n      <td>2.4K</td>\n    </tr>\n    <tr>\n      <th>713</th>\n      <td>713</td>\n      <td>Final Fantasy VII Rebirth</td>\n      <td>2023</td>\n      <td>NaN</td>\n      <td>192</td>\n      <td>[]</td>\n      <td>This next standalone chapter in the FINAL FANT...</td>\n      <td>20</td>\n      <td>3</td>\n      <td>354</td>\n      <td>1.1K</td>\n    </tr>\n    <tr>\n      <th>719</th>\n      <td>719</td>\n      <td>Lies of P</td>\n      <td>2023</td>\n      <td>NaN</td>\n      <td>175</td>\n      <td>['RPG']</td>\n      <td>Inspired by the familiar story of Pinocchio, L...</td>\n      <td>5</td>\n      <td>0</td>\n      <td>260</td>\n      <td>939</td>\n    </tr>\n    <tr>\n      <th>726</th>\n      <td>726</td>\n      <td>Judas</td>\n      <td>2025</td>\n      <td>NaN</td>\n      <td>90</td>\n      <td>['Adventure', 'Shooter']</td>\n      <td>A disintegrating starship. A desperate escape ...</td>\n      <td>1</td>\n      <td>0</td>\n      <td>92</td>\n      <td>437</td>\n    </tr>\n    <tr>\n      <th>746</th>\n      <td>746</td>\n      <td>Like a Dragon Gaiden: The Man Who Erased His Name</td>\n      <td>2023</td>\n      <td>NaN</td>\n      <td>118</td>\n      <td>['Adventure', 'Brawler', 'RPG']</td>\n      <td>This game covers Kiryu's story between Yakuza ...</td>\n      <td>2</td>\n      <td>1</td>\n      <td>145</td>\n      <td>588</td>\n    </tr>\n    <tr>\n      <th>972</th>\n      <td>972</td>\n      <td>The Legend of Zelda: Tears of the Kingdom</td>\n      <td>2023</td>\n      <td>NaN</td>\n      <td>581</td>\n      <td>['Adventure', 'RPG']</td>\n      <td>The Legend of Zelda: Tears of the Kingdom is t...</td>\n      <td>72</td>\n      <td>6</td>\n      <td>1.6K</td>\n      <td>5.4K</td>\n    </tr>\n    <tr>\n      <th>1130</th>\n      <td>1130</td>\n      <td>Star Wars Jedi: Survivor</td>\n      <td>2023</td>\n      <td>NaN</td>\n      <td>250</td>\n      <td>['Adventure']</td>\n      <td>The story of Cal Kestis continues in Star Wars...</td>\n      <td>13</td>\n      <td>2</td>\n      <td>367</td>\n      <td>1.4K</td>\n    </tr>\n    <tr>\n      <th>1160</th>\n      <td>1160</td>\n      <td>We Love Katamari Reroll + Royal Reverie</td>\n      <td>2023</td>\n      <td>NaN</td>\n      <td>51</td>\n      <td>['Adventure', 'Puzzle']</td>\n      <td>We Love Katamari Reroll + Royal Reverie is a r...</td>\n      <td>3</td>\n      <td>0</td>\n      <td>74</td>\n      <td>291</td>\n    </tr>\n    <tr>\n      <th>1202</th>\n      <td>1202</td>\n      <td>Earthblade</td>\n      <td>2024</td>\n      <td>NaN</td>\n      <td>83</td>\n      <td>['Adventure', 'Indie', 'RPG']</td>\n      <td>You are Névoa, an enigmatic child of Fate retu...</td>\n      <td>0</td>\n      <td>1</td>\n      <td>103</td>\n      <td>529</td>\n    </tr>\n    <tr>\n      <th>1305</th>\n      <td>1305</td>\n      <td>Diablo IV</td>\n      <td>2023</td>\n      <td>NaN</td>\n      <td>148</td>\n      <td>['Brawler', 'RPG']</td>\n      <td>Endless demons to slaughter. Deep customizatio...</td>\n      <td>19</td>\n      <td>10</td>\n      <td>179</td>\n      <td>677</td>\n    </tr>\n    <tr>\n      <th>1341</th>\n      <td>1341</td>\n      <td>Pac-Man in a Tin</td>\n      <td>2023</td>\n      <td>NaN</td>\n      <td>0</td>\n      <td>['Arcade']</td>\n      <td>Pac-Man in a Tin is a pocket-sized tin contain...</td>\n      <td>1</td>\n      <td>0</td>\n      <td>1</td>\n      <td>2</td>\n    </tr>\n    <tr>\n      <th>1349</th>\n      <td>1349</td>\n      <td>Pokémon Añil</td>\n      <td>2023</td>\n      <td>NaN</td>\n      <td>2</td>\n      <td>['RPG']</td>\n      <td>Pokémon Añil is the fourth video game created ...</td>\n      <td>1</td>\n      <td>0</td>\n      <td>1</td>\n      <td>7</td>\n    </tr>\n  </tbody>\n</table>\n</div>"
     },
     "execution_count": 12,
     "metadata": {},
     "output_type": "execute_result"
    }
   ],
   "source": [
    "\n",
    "\n",
    "import math\n",
    "\n",
    "data[(data.Rating).isna()]\n"
   ],
   "metadata": {
    "collapsed": false,
    "ExecuteTime": {
     "end_time": "2023-12-20T16:19:04.066654Z",
     "start_time": "2023-12-20T16:19:03.904616Z"
    }
   }
  },
  {
   "cell_type": "code",
   "execution_count": 13,
   "outputs": [
    {
     "data": {
      "text/plain": "      index                                    Title Release Date  Rating  \\\n0         0                               Elden Ring         2022     4.5   \n1         1                                    Hades         2019     4.3   \n2         2  The Legend of Zelda: Breath of the Wild         2017     4.4   \n3         3                                Undertale         2015     4.2   \n4         4                            Hollow Knight         2017     4.4   \n...     ...                                      ...          ...     ...   \n1507   1507             Back to the Future: The Game         2010     3.2   \n1508   1508                        Team Sonic Racing         2019     2.9   \n1509   1509                           Dragon's Dogma         2012     3.7   \n1510   1510                          Baldur's Gate 3         2020     4.1   \n1511   1511                 The LEGO Movie Videogame         2014     2.8   \n\n     Number of Reviews                                             Genres  \\\n0                 3.9K                               ['Adventure', 'RPG']   \n1                 2.9K           ['Adventure', 'Brawler', 'Indie', 'RPG']   \n2                 4.3K                               ['Adventure', 'RPG']   \n3                 3.5K  ['Adventure', 'Indie', 'RPG', 'Turn Based Stra...   \n4                   3K                 ['Adventure', 'Indie', 'Platform']   \n...                ...                                                ...   \n1507                94                   ['Adventure', 'Point-and-Click']   \n1508               264                               ['Arcade', 'Racing']   \n1509               210                                 ['Brawler', 'RPG']   \n1510               165  ['Adventure', 'RPG', 'Strategy', 'Tactical', '...   \n1511               184                            ['Adventure', 'Puzzle']   \n\n                                                Summary Plays Playing  \\\n0     Elden Ring is a fantasy, action and open world...   17K    3.8K   \n1     A rogue-lite hack and slash dungeon crawler in...   21K    3.2K   \n2     The Legend of Zelda: Breath of the Wild is the...   30K    2.5K   \n3     A small child falls into the Underground, wher...   28K     679   \n4     A 2D metroidvania with an emphasis on close co...   21K    2.4K   \n...                                                 ...   ...     ...   \n1507  Back to the Future: The Game is one of Telltal...   763       5   \n1508  Team Sonic Racing combines the best elements o...  1.5K      49   \n1509  Set in a huge open world, Dragon’s Dogma: Dark...  1.1K      45   \n1510  An ancient evil has returned to Baldur's Gate,...   269      79   \n1511  Join Emmet and an unlikely group of resistance...  1.7K      11   \n\n     Backlogs Wishlist  \n0        4.6K     4.8K  \n1        6.3K     3.6K  \n2          5K     2.6K  \n3        4.9K     1.8K  \n4        8.3K     2.3K  \n...       ...      ...  \n1507      223       67  \n1508      413      107  \n1509      487      206  \n1510      388      602  \n1511      239       73  \n\n[1102 rows x 11 columns]",
      "text/html": "<div>\n<style scoped>\n    .dataframe tbody tr th:only-of-type {\n        vertical-align: middle;\n    }\n\n    .dataframe tbody tr th {\n        vertical-align: top;\n    }\n\n    .dataframe thead th {\n        text-align: right;\n    }\n</style>\n<table border=\"1\" class=\"dataframe\">\n  <thead>\n    <tr style=\"text-align: right;\">\n      <th></th>\n      <th>index</th>\n      <th>Title</th>\n      <th>Release Date</th>\n      <th>Rating</th>\n      <th>Number of Reviews</th>\n      <th>Genres</th>\n      <th>Summary</th>\n      <th>Plays</th>\n      <th>Playing</th>\n      <th>Backlogs</th>\n      <th>Wishlist</th>\n    </tr>\n  </thead>\n  <tbody>\n    <tr>\n      <th>0</th>\n      <td>0</td>\n      <td>Elden Ring</td>\n      <td>2022</td>\n      <td>4.5</td>\n      <td>3.9K</td>\n      <td>['Adventure', 'RPG']</td>\n      <td>Elden Ring is a fantasy, action and open world...</td>\n      <td>17K</td>\n      <td>3.8K</td>\n      <td>4.6K</td>\n      <td>4.8K</td>\n    </tr>\n    <tr>\n      <th>1</th>\n      <td>1</td>\n      <td>Hades</td>\n      <td>2019</td>\n      <td>4.3</td>\n      <td>2.9K</td>\n      <td>['Adventure', 'Brawler', 'Indie', 'RPG']</td>\n      <td>A rogue-lite hack and slash dungeon crawler in...</td>\n      <td>21K</td>\n      <td>3.2K</td>\n      <td>6.3K</td>\n      <td>3.6K</td>\n    </tr>\n    <tr>\n      <th>2</th>\n      <td>2</td>\n      <td>The Legend of Zelda: Breath of the Wild</td>\n      <td>2017</td>\n      <td>4.4</td>\n      <td>4.3K</td>\n      <td>['Adventure', 'RPG']</td>\n      <td>The Legend of Zelda: Breath of the Wild is the...</td>\n      <td>30K</td>\n      <td>2.5K</td>\n      <td>5K</td>\n      <td>2.6K</td>\n    </tr>\n    <tr>\n      <th>3</th>\n      <td>3</td>\n      <td>Undertale</td>\n      <td>2015</td>\n      <td>4.2</td>\n      <td>3.5K</td>\n      <td>['Adventure', 'Indie', 'RPG', 'Turn Based Stra...</td>\n      <td>A small child falls into the Underground, wher...</td>\n      <td>28K</td>\n      <td>679</td>\n      <td>4.9K</td>\n      <td>1.8K</td>\n    </tr>\n    <tr>\n      <th>4</th>\n      <td>4</td>\n      <td>Hollow Knight</td>\n      <td>2017</td>\n      <td>4.4</td>\n      <td>3K</td>\n      <td>['Adventure', 'Indie', 'Platform']</td>\n      <td>A 2D metroidvania with an emphasis on close co...</td>\n      <td>21K</td>\n      <td>2.4K</td>\n      <td>8.3K</td>\n      <td>2.3K</td>\n    </tr>\n    <tr>\n      <th>...</th>\n      <td>...</td>\n      <td>...</td>\n      <td>...</td>\n      <td>...</td>\n      <td>...</td>\n      <td>...</td>\n      <td>...</td>\n      <td>...</td>\n      <td>...</td>\n      <td>...</td>\n      <td>...</td>\n    </tr>\n    <tr>\n      <th>1507</th>\n      <td>1507</td>\n      <td>Back to the Future: The Game</td>\n      <td>2010</td>\n      <td>3.2</td>\n      <td>94</td>\n      <td>['Adventure', 'Point-and-Click']</td>\n      <td>Back to the Future: The Game is one of Telltal...</td>\n      <td>763</td>\n      <td>5</td>\n      <td>223</td>\n      <td>67</td>\n    </tr>\n    <tr>\n      <th>1508</th>\n      <td>1508</td>\n      <td>Team Sonic Racing</td>\n      <td>2019</td>\n      <td>2.9</td>\n      <td>264</td>\n      <td>['Arcade', 'Racing']</td>\n      <td>Team Sonic Racing combines the best elements o...</td>\n      <td>1.5K</td>\n      <td>49</td>\n      <td>413</td>\n      <td>107</td>\n    </tr>\n    <tr>\n      <th>1509</th>\n      <td>1509</td>\n      <td>Dragon's Dogma</td>\n      <td>2012</td>\n      <td>3.7</td>\n      <td>210</td>\n      <td>['Brawler', 'RPG']</td>\n      <td>Set in a huge open world, Dragon’s Dogma: Dark...</td>\n      <td>1.1K</td>\n      <td>45</td>\n      <td>487</td>\n      <td>206</td>\n    </tr>\n    <tr>\n      <th>1510</th>\n      <td>1510</td>\n      <td>Baldur's Gate 3</td>\n      <td>2020</td>\n      <td>4.1</td>\n      <td>165</td>\n      <td>['Adventure', 'RPG', 'Strategy', 'Tactical', '...</td>\n      <td>An ancient evil has returned to Baldur's Gate,...</td>\n      <td>269</td>\n      <td>79</td>\n      <td>388</td>\n      <td>602</td>\n    </tr>\n    <tr>\n      <th>1511</th>\n      <td>1511</td>\n      <td>The LEGO Movie Videogame</td>\n      <td>2014</td>\n      <td>2.8</td>\n      <td>184</td>\n      <td>['Adventure', 'Puzzle']</td>\n      <td>Join Emmet and an unlikely group of resistance...</td>\n      <td>1.7K</td>\n      <td>11</td>\n      <td>239</td>\n      <td>73</td>\n    </tr>\n  </tbody>\n</table>\n<p>1102 rows × 11 columns</p>\n</div>"
     },
     "execution_count": 13,
     "metadata": {},
     "output_type": "execute_result"
    }
   ],
   "source": [
    "data = data.dropna(subset=[\"Rating\"])\n",
    "data"
   ],
   "metadata": {
    "collapsed": false,
    "ExecuteTime": {
     "end_time": "2023-12-20T16:19:04.067304Z",
     "start_time": "2023-12-20T16:19:03.912988Z"
    }
   }
  },
  {
   "cell_type": "code",
   "execution_count": 14,
   "outputs": [],
   "source": [
    "data = data.drop(columns = 'Summary')"
   ],
   "metadata": {
    "collapsed": false,
    "ExecuteTime": {
     "end_time": "2023-12-20T16:19:04.067660Z",
     "start_time": "2023-12-20T16:19:03.936946Z"
    }
   }
  },
  {
   "cell_type": "code",
   "execution_count": 15,
   "outputs": [
    {
     "data": {
      "text/plain": "      index                                    Title Release Date  Rating  \\\n0         0                               Elden Ring         2022     4.5   \n1         1                                    Hades         2019     4.3   \n2         2  The Legend of Zelda: Breath of the Wild         2017     4.4   \n3         3                                Undertale         2015     4.2   \n4         4                            Hollow Knight         2017     4.4   \n...     ...                                      ...          ...     ...   \n1507   1507             Back to the Future: The Game         2010     3.2   \n1508   1508                        Team Sonic Racing         2019     2.9   \n1509   1509                           Dragon's Dogma         2012     3.7   \n1510   1510                          Baldur's Gate 3         2020     4.1   \n1511   1511                 The LEGO Movie Videogame         2014     2.8   \n\n     Number of Reviews                                             Genres  \\\n0                 3.9K                               ['Adventure', 'RPG']   \n1                 2.9K           ['Adventure', 'Brawler', 'Indie', 'RPG']   \n2                 4.3K                               ['Adventure', 'RPG']   \n3                 3.5K  ['Adventure', 'Indie', 'RPG', 'Turn Based Stra...   \n4                   3K                 ['Adventure', 'Indie', 'Platform']   \n...                ...                                                ...   \n1507                94                   ['Adventure', 'Point-and-Click']   \n1508               264                               ['Arcade', 'Racing']   \n1509               210                                 ['Brawler', 'RPG']   \n1510               165  ['Adventure', 'RPG', 'Strategy', 'Tactical', '...   \n1511               184                            ['Adventure', 'Puzzle']   \n\n     Plays Playing Backlogs Wishlist  \n0      17K    3.8K     4.6K     4.8K  \n1      21K    3.2K     6.3K     3.6K  \n2      30K    2.5K       5K     2.6K  \n3      28K     679     4.9K     1.8K  \n4      21K    2.4K     8.3K     2.3K  \n...    ...     ...      ...      ...  \n1507   763       5      223       67  \n1508  1.5K      49      413      107  \n1509  1.1K      45      487      206  \n1510   269      79      388      602  \n1511  1.7K      11      239       73  \n\n[1102 rows x 10 columns]",
      "text/html": "<div>\n<style scoped>\n    .dataframe tbody tr th:only-of-type {\n        vertical-align: middle;\n    }\n\n    .dataframe tbody tr th {\n        vertical-align: top;\n    }\n\n    .dataframe thead th {\n        text-align: right;\n    }\n</style>\n<table border=\"1\" class=\"dataframe\">\n  <thead>\n    <tr style=\"text-align: right;\">\n      <th></th>\n      <th>index</th>\n      <th>Title</th>\n      <th>Release Date</th>\n      <th>Rating</th>\n      <th>Number of Reviews</th>\n      <th>Genres</th>\n      <th>Plays</th>\n      <th>Playing</th>\n      <th>Backlogs</th>\n      <th>Wishlist</th>\n    </tr>\n  </thead>\n  <tbody>\n    <tr>\n      <th>0</th>\n      <td>0</td>\n      <td>Elden Ring</td>\n      <td>2022</td>\n      <td>4.5</td>\n      <td>3.9K</td>\n      <td>['Adventure', 'RPG']</td>\n      <td>17K</td>\n      <td>3.8K</td>\n      <td>4.6K</td>\n      <td>4.8K</td>\n    </tr>\n    <tr>\n      <th>1</th>\n      <td>1</td>\n      <td>Hades</td>\n      <td>2019</td>\n      <td>4.3</td>\n      <td>2.9K</td>\n      <td>['Adventure', 'Brawler', 'Indie', 'RPG']</td>\n      <td>21K</td>\n      <td>3.2K</td>\n      <td>6.3K</td>\n      <td>3.6K</td>\n    </tr>\n    <tr>\n      <th>2</th>\n      <td>2</td>\n      <td>The Legend of Zelda: Breath of the Wild</td>\n      <td>2017</td>\n      <td>4.4</td>\n      <td>4.3K</td>\n      <td>['Adventure', 'RPG']</td>\n      <td>30K</td>\n      <td>2.5K</td>\n      <td>5K</td>\n      <td>2.6K</td>\n    </tr>\n    <tr>\n      <th>3</th>\n      <td>3</td>\n      <td>Undertale</td>\n      <td>2015</td>\n      <td>4.2</td>\n      <td>3.5K</td>\n      <td>['Adventure', 'Indie', 'RPG', 'Turn Based Stra...</td>\n      <td>28K</td>\n      <td>679</td>\n      <td>4.9K</td>\n      <td>1.8K</td>\n    </tr>\n    <tr>\n      <th>4</th>\n      <td>4</td>\n      <td>Hollow Knight</td>\n      <td>2017</td>\n      <td>4.4</td>\n      <td>3K</td>\n      <td>['Adventure', 'Indie', 'Platform']</td>\n      <td>21K</td>\n      <td>2.4K</td>\n      <td>8.3K</td>\n      <td>2.3K</td>\n    </tr>\n    <tr>\n      <th>...</th>\n      <td>...</td>\n      <td>...</td>\n      <td>...</td>\n      <td>...</td>\n      <td>...</td>\n      <td>...</td>\n      <td>...</td>\n      <td>...</td>\n      <td>...</td>\n      <td>...</td>\n    </tr>\n    <tr>\n      <th>1507</th>\n      <td>1507</td>\n      <td>Back to the Future: The Game</td>\n      <td>2010</td>\n      <td>3.2</td>\n      <td>94</td>\n      <td>['Adventure', 'Point-and-Click']</td>\n      <td>763</td>\n      <td>5</td>\n      <td>223</td>\n      <td>67</td>\n    </tr>\n    <tr>\n      <th>1508</th>\n      <td>1508</td>\n      <td>Team Sonic Racing</td>\n      <td>2019</td>\n      <td>2.9</td>\n      <td>264</td>\n      <td>['Arcade', 'Racing']</td>\n      <td>1.5K</td>\n      <td>49</td>\n      <td>413</td>\n      <td>107</td>\n    </tr>\n    <tr>\n      <th>1509</th>\n      <td>1509</td>\n      <td>Dragon's Dogma</td>\n      <td>2012</td>\n      <td>3.7</td>\n      <td>210</td>\n      <td>['Brawler', 'RPG']</td>\n      <td>1.1K</td>\n      <td>45</td>\n      <td>487</td>\n      <td>206</td>\n    </tr>\n    <tr>\n      <th>1510</th>\n      <td>1510</td>\n      <td>Baldur's Gate 3</td>\n      <td>2020</td>\n      <td>4.1</td>\n      <td>165</td>\n      <td>['Adventure', 'RPG', 'Strategy', 'Tactical', '...</td>\n      <td>269</td>\n      <td>79</td>\n      <td>388</td>\n      <td>602</td>\n    </tr>\n    <tr>\n      <th>1511</th>\n      <td>1511</td>\n      <td>The LEGO Movie Videogame</td>\n      <td>2014</td>\n      <td>2.8</td>\n      <td>184</td>\n      <td>['Adventure', 'Puzzle']</td>\n      <td>1.7K</td>\n      <td>11</td>\n      <td>239</td>\n      <td>73</td>\n    </tr>\n  </tbody>\n</table>\n<p>1102 rows × 10 columns</p>\n</div>"
     },
     "execution_count": 15,
     "metadata": {},
     "output_type": "execute_result"
    }
   ],
   "source": [
    "data"
   ],
   "metadata": {
    "collapsed": false,
    "ExecuteTime": {
     "end_time": "2023-12-20T16:19:04.090368Z",
     "start_time": "2023-12-20T16:19:03.957807Z"
    }
   }
  },
  {
   "cell_type": "code",
   "execution_count": 15,
   "outputs": [],
   "source": [],
   "metadata": {
    "collapsed": false,
    "ExecuteTime": {
     "end_time": "2023-12-20T16:19:04.120059Z",
     "start_time": "2023-12-20T16:19:03.962978Z"
    }
   }
  },
  {
   "cell_type": "code",
   "execution_count": 16,
   "outputs": [],
   "source": [
    "def convert_string_to_int(string):\n",
    "    if string[-1] == \"K\":\n",
    "        return int(float(string[:-1]) * 1000)\n",
    "    else:\n",
    "        return int(string)\n",
    "\n",
    "for x in data.index:\n",
    "    data[\"Number of Reviews\"][x] = convert_string_to_int(data[\"Number of Reviews\"][x])\n",
    "    data.Plays[x] = convert_string_to_int(data.Plays[x])\n",
    "    data.Playing[x] = convert_string_to_int(data.Playing[x])\n",
    "    data.Backlogs[x] = convert_string_to_int(data.Backlogs[x])\n",
    "    data.Wishlist[x] = convert_string_to_int(data.Wishlist[x])"
   ],
   "metadata": {
    "collapsed": false,
    "ExecuteTime": {
     "end_time": "2023-12-20T16:19:06.257180Z",
     "start_time": "2023-12-20T16:19:04.052372Z"
    }
   }
  },
  {
   "cell_type": "code",
   "execution_count": 17,
   "outputs": [
    {
     "data": {
      "text/plain": "      index                                    Title Release Date  Rating  \\\n0         0                               Elden Ring         2022     4.5   \n1         1                                    Hades         2019     4.3   \n2         2  The Legend of Zelda: Breath of the Wild         2017     4.4   \n3         3                                Undertale         2015     4.2   \n4         4                            Hollow Knight         2017     4.4   \n...     ...                                      ...          ...     ...   \n1507   1507             Back to the Future: The Game         2010     3.2   \n1508   1508                        Team Sonic Racing         2019     2.9   \n1509   1509                           Dragon's Dogma         2012     3.7   \n1510   1510                          Baldur's Gate 3         2020     4.1   \n1511   1511                 The LEGO Movie Videogame         2014     2.8   \n\n     Number of Reviews                                             Genres  \\\n0                 3900                               ['Adventure', 'RPG']   \n1                 2900           ['Adventure', 'Brawler', 'Indie', 'RPG']   \n2                 4300                               ['Adventure', 'RPG']   \n3                 3500  ['Adventure', 'Indie', 'RPG', 'Turn Based Stra...   \n4                 3000                 ['Adventure', 'Indie', 'Platform']   \n...                ...                                                ...   \n1507                94                   ['Adventure', 'Point-and-Click']   \n1508               264                               ['Arcade', 'Racing']   \n1509               210                                 ['Brawler', 'RPG']   \n1510               165  ['Adventure', 'RPG', 'Strategy', 'Tactical', '...   \n1511               184                            ['Adventure', 'Puzzle']   \n\n      Plays Playing Backlogs Wishlist  \n0     17000    3800     4600     4800  \n1     21000    3200     6300     3600  \n2     30000    2500     5000     2600  \n3     28000     679     4900     1800  \n4     21000    2400     8300     2300  \n...     ...     ...      ...      ...  \n1507    763       5      223       67  \n1508   1500      49      413      107  \n1509   1100      45      487      206  \n1510    269      79      388      602  \n1511   1700      11      239       73  \n\n[1102 rows x 10 columns]",
      "text/html": "<div>\n<style scoped>\n    .dataframe tbody tr th:only-of-type {\n        vertical-align: middle;\n    }\n\n    .dataframe tbody tr th {\n        vertical-align: top;\n    }\n\n    .dataframe thead th {\n        text-align: right;\n    }\n</style>\n<table border=\"1\" class=\"dataframe\">\n  <thead>\n    <tr style=\"text-align: right;\">\n      <th></th>\n      <th>index</th>\n      <th>Title</th>\n      <th>Release Date</th>\n      <th>Rating</th>\n      <th>Number of Reviews</th>\n      <th>Genres</th>\n      <th>Plays</th>\n      <th>Playing</th>\n      <th>Backlogs</th>\n      <th>Wishlist</th>\n    </tr>\n  </thead>\n  <tbody>\n    <tr>\n      <th>0</th>\n      <td>0</td>\n      <td>Elden Ring</td>\n      <td>2022</td>\n      <td>4.5</td>\n      <td>3900</td>\n      <td>['Adventure', 'RPG']</td>\n      <td>17000</td>\n      <td>3800</td>\n      <td>4600</td>\n      <td>4800</td>\n    </tr>\n    <tr>\n      <th>1</th>\n      <td>1</td>\n      <td>Hades</td>\n      <td>2019</td>\n      <td>4.3</td>\n      <td>2900</td>\n      <td>['Adventure', 'Brawler', 'Indie', 'RPG']</td>\n      <td>21000</td>\n      <td>3200</td>\n      <td>6300</td>\n      <td>3600</td>\n    </tr>\n    <tr>\n      <th>2</th>\n      <td>2</td>\n      <td>The Legend of Zelda: Breath of the Wild</td>\n      <td>2017</td>\n      <td>4.4</td>\n      <td>4300</td>\n      <td>['Adventure', 'RPG']</td>\n      <td>30000</td>\n      <td>2500</td>\n      <td>5000</td>\n      <td>2600</td>\n    </tr>\n    <tr>\n      <th>3</th>\n      <td>3</td>\n      <td>Undertale</td>\n      <td>2015</td>\n      <td>4.2</td>\n      <td>3500</td>\n      <td>['Adventure', 'Indie', 'RPG', 'Turn Based Stra...</td>\n      <td>28000</td>\n      <td>679</td>\n      <td>4900</td>\n      <td>1800</td>\n    </tr>\n    <tr>\n      <th>4</th>\n      <td>4</td>\n      <td>Hollow Knight</td>\n      <td>2017</td>\n      <td>4.4</td>\n      <td>3000</td>\n      <td>['Adventure', 'Indie', 'Platform']</td>\n      <td>21000</td>\n      <td>2400</td>\n      <td>8300</td>\n      <td>2300</td>\n    </tr>\n    <tr>\n      <th>...</th>\n      <td>...</td>\n      <td>...</td>\n      <td>...</td>\n      <td>...</td>\n      <td>...</td>\n      <td>...</td>\n      <td>...</td>\n      <td>...</td>\n      <td>...</td>\n      <td>...</td>\n    </tr>\n    <tr>\n      <th>1507</th>\n      <td>1507</td>\n      <td>Back to the Future: The Game</td>\n      <td>2010</td>\n      <td>3.2</td>\n      <td>94</td>\n      <td>['Adventure', 'Point-and-Click']</td>\n      <td>763</td>\n      <td>5</td>\n      <td>223</td>\n      <td>67</td>\n    </tr>\n    <tr>\n      <th>1508</th>\n      <td>1508</td>\n      <td>Team Sonic Racing</td>\n      <td>2019</td>\n      <td>2.9</td>\n      <td>264</td>\n      <td>['Arcade', 'Racing']</td>\n      <td>1500</td>\n      <td>49</td>\n      <td>413</td>\n      <td>107</td>\n    </tr>\n    <tr>\n      <th>1509</th>\n      <td>1509</td>\n      <td>Dragon's Dogma</td>\n      <td>2012</td>\n      <td>3.7</td>\n      <td>210</td>\n      <td>['Brawler', 'RPG']</td>\n      <td>1100</td>\n      <td>45</td>\n      <td>487</td>\n      <td>206</td>\n    </tr>\n    <tr>\n      <th>1510</th>\n      <td>1510</td>\n      <td>Baldur's Gate 3</td>\n      <td>2020</td>\n      <td>4.1</td>\n      <td>165</td>\n      <td>['Adventure', 'RPG', 'Strategy', 'Tactical', '...</td>\n      <td>269</td>\n      <td>79</td>\n      <td>388</td>\n      <td>602</td>\n    </tr>\n    <tr>\n      <th>1511</th>\n      <td>1511</td>\n      <td>The LEGO Movie Videogame</td>\n      <td>2014</td>\n      <td>2.8</td>\n      <td>184</td>\n      <td>['Adventure', 'Puzzle']</td>\n      <td>1700</td>\n      <td>11</td>\n      <td>239</td>\n      <td>73</td>\n    </tr>\n  </tbody>\n</table>\n<p>1102 rows × 10 columns</p>\n</div>"
     },
     "execution_count": 17,
     "metadata": {},
     "output_type": "execute_result"
    }
   ],
   "source": [
    "data"
   ],
   "metadata": {
    "collapsed": false,
    "ExecuteTime": {
     "end_time": "2023-12-20T16:19:06.277315Z",
     "start_time": "2023-12-20T16:19:06.257625Z"
    }
   }
  },
  {
   "cell_type": "code",
   "execution_count": 18,
   "outputs": [],
   "source": [
    "\n",
    "data = data.assign(Popularity= data.Rating*( 0.1 * data[\"Number of Reviews\"] + 0.8 * data.Plays + 1 * data.Playing + 0.3 * data.Backlogs + 0.2 * data.Wishlist))\n"
   ],
   "metadata": {
    "collapsed": false,
    "ExecuteTime": {
     "end_time": "2023-12-20T16:19:06.290788Z",
     "start_time": "2023-12-20T16:19:06.277715Z"
    }
   }
  },
  {
   "cell_type": "code",
   "execution_count": 19,
   "outputs": [
    {
     "data": {
      "text/plain": "      index                                    Title Release Date  Rating  \\\n0         0                               Elden Ring         2022     4.5   \n1         1                                    Hades         2019     4.3   \n2         2  The Legend of Zelda: Breath of the Wild         2017     4.4   \n3         3                                Undertale         2015     4.2   \n4         4                            Hollow Knight         2017     4.4   \n...     ...                                      ...          ...     ...   \n1507   1507             Back to the Future: The Game         2010     3.2   \n1508   1508                        Team Sonic Racing         2019     2.9   \n1509   1509                           Dragon's Dogma         2012     3.7   \n1510   1510                          Baldur's Gate 3         2020     4.1   \n1511   1511                 The LEGO Movie Videogame         2014     2.8   \n\n     Number of Reviews                                             Genres  \\\n0                 3900                               ['Adventure', 'RPG']   \n1                 2900           ['Adventure', 'Brawler', 'Indie', 'RPG']   \n2                 4300                               ['Adventure', 'RPG']   \n3                 3500  ['Adventure', 'Indie', 'RPG', 'Turn Based Stra...   \n4                 3000                 ['Adventure', 'Indie', 'Platform']   \n...                ...                                                ...   \n1507                94                   ['Adventure', 'Point-and-Click']   \n1508               264                               ['Arcade', 'Racing']   \n1509               210                                 ['Brawler', 'RPG']   \n1510               165  ['Adventure', 'RPG', 'Strategy', 'Tactical', '...   \n1511               184                            ['Adventure', 'Puzzle']   \n\n      Plays Playing Backlogs Wishlist Popularity  \n0     17000    3800     4600     4800    90585.0  \n1     21000    3200     6300     3600    98470.0  \n2     30000    2500     5000     2600   127380.0  \n3     28000     679     4900     1800   106087.8  \n4     21000    2400     8300     2300    98780.0  \n...     ...     ...      ...      ...        ...  \n1507    763       5      223       67    2256.32  \n1508   1500      49      413      107    4120.03  \n1509   1100      45      487      206    4193.21  \n1510    269      79      388      602    2244.75  \n1511   1700      11      239       73    4131.96  \n\n[1102 rows x 11 columns]",
      "text/html": "<div>\n<style scoped>\n    .dataframe tbody tr th:only-of-type {\n        vertical-align: middle;\n    }\n\n    .dataframe tbody tr th {\n        vertical-align: top;\n    }\n\n    .dataframe thead th {\n        text-align: right;\n    }\n</style>\n<table border=\"1\" class=\"dataframe\">\n  <thead>\n    <tr style=\"text-align: right;\">\n      <th></th>\n      <th>index</th>\n      <th>Title</th>\n      <th>Release Date</th>\n      <th>Rating</th>\n      <th>Number of Reviews</th>\n      <th>Genres</th>\n      <th>Plays</th>\n      <th>Playing</th>\n      <th>Backlogs</th>\n      <th>Wishlist</th>\n      <th>Popularity</th>\n    </tr>\n  </thead>\n  <tbody>\n    <tr>\n      <th>0</th>\n      <td>0</td>\n      <td>Elden Ring</td>\n      <td>2022</td>\n      <td>4.5</td>\n      <td>3900</td>\n      <td>['Adventure', 'RPG']</td>\n      <td>17000</td>\n      <td>3800</td>\n      <td>4600</td>\n      <td>4800</td>\n      <td>90585.0</td>\n    </tr>\n    <tr>\n      <th>1</th>\n      <td>1</td>\n      <td>Hades</td>\n      <td>2019</td>\n      <td>4.3</td>\n      <td>2900</td>\n      <td>['Adventure', 'Brawler', 'Indie', 'RPG']</td>\n      <td>21000</td>\n      <td>3200</td>\n      <td>6300</td>\n      <td>3600</td>\n      <td>98470.0</td>\n    </tr>\n    <tr>\n      <th>2</th>\n      <td>2</td>\n      <td>The Legend of Zelda: Breath of the Wild</td>\n      <td>2017</td>\n      <td>4.4</td>\n      <td>4300</td>\n      <td>['Adventure', 'RPG']</td>\n      <td>30000</td>\n      <td>2500</td>\n      <td>5000</td>\n      <td>2600</td>\n      <td>127380.0</td>\n    </tr>\n    <tr>\n      <th>3</th>\n      <td>3</td>\n      <td>Undertale</td>\n      <td>2015</td>\n      <td>4.2</td>\n      <td>3500</td>\n      <td>['Adventure', 'Indie', 'RPG', 'Turn Based Stra...</td>\n      <td>28000</td>\n      <td>679</td>\n      <td>4900</td>\n      <td>1800</td>\n      <td>106087.8</td>\n    </tr>\n    <tr>\n      <th>4</th>\n      <td>4</td>\n      <td>Hollow Knight</td>\n      <td>2017</td>\n      <td>4.4</td>\n      <td>3000</td>\n      <td>['Adventure', 'Indie', 'Platform']</td>\n      <td>21000</td>\n      <td>2400</td>\n      <td>8300</td>\n      <td>2300</td>\n      <td>98780.0</td>\n    </tr>\n    <tr>\n      <th>...</th>\n      <td>...</td>\n      <td>...</td>\n      <td>...</td>\n      <td>...</td>\n      <td>...</td>\n      <td>...</td>\n      <td>...</td>\n      <td>...</td>\n      <td>...</td>\n      <td>...</td>\n      <td>...</td>\n    </tr>\n    <tr>\n      <th>1507</th>\n      <td>1507</td>\n      <td>Back to the Future: The Game</td>\n      <td>2010</td>\n      <td>3.2</td>\n      <td>94</td>\n      <td>['Adventure', 'Point-and-Click']</td>\n      <td>763</td>\n      <td>5</td>\n      <td>223</td>\n      <td>67</td>\n      <td>2256.32</td>\n    </tr>\n    <tr>\n      <th>1508</th>\n      <td>1508</td>\n      <td>Team Sonic Racing</td>\n      <td>2019</td>\n      <td>2.9</td>\n      <td>264</td>\n      <td>['Arcade', 'Racing']</td>\n      <td>1500</td>\n      <td>49</td>\n      <td>413</td>\n      <td>107</td>\n      <td>4120.03</td>\n    </tr>\n    <tr>\n      <th>1509</th>\n      <td>1509</td>\n      <td>Dragon's Dogma</td>\n      <td>2012</td>\n      <td>3.7</td>\n      <td>210</td>\n      <td>['Brawler', 'RPG']</td>\n      <td>1100</td>\n      <td>45</td>\n      <td>487</td>\n      <td>206</td>\n      <td>4193.21</td>\n    </tr>\n    <tr>\n      <th>1510</th>\n      <td>1510</td>\n      <td>Baldur's Gate 3</td>\n      <td>2020</td>\n      <td>4.1</td>\n      <td>165</td>\n      <td>['Adventure', 'RPG', 'Strategy', 'Tactical', '...</td>\n      <td>269</td>\n      <td>79</td>\n      <td>388</td>\n      <td>602</td>\n      <td>2244.75</td>\n    </tr>\n    <tr>\n      <th>1511</th>\n      <td>1511</td>\n      <td>The LEGO Movie Videogame</td>\n      <td>2014</td>\n      <td>2.8</td>\n      <td>184</td>\n      <td>['Adventure', 'Puzzle']</td>\n      <td>1700</td>\n      <td>11</td>\n      <td>239</td>\n      <td>73</td>\n      <td>4131.96</td>\n    </tr>\n  </tbody>\n</table>\n<p>1102 rows × 11 columns</p>\n</div>"
     },
     "execution_count": 19,
     "metadata": {},
     "output_type": "execute_result"
    }
   ],
   "source": [
    "data"
   ],
   "metadata": {
    "collapsed": false,
    "ExecuteTime": {
     "end_time": "2023-12-20T16:19:06.402029Z",
     "start_time": "2023-12-20T16:19:06.303977Z"
    }
   }
  },
  {
   "cell_type": "code",
   "execution_count": 20,
   "outputs": [],
   "source": [
    "from sklearn.preprocessing import OneHotEncoder\n",
    "data = data.drop(columns = ['Number of Reviews','Plays', 'Playing', 'Backlogs', 'Wishlist', 'Rating'])\n",
    "\n",
    "\n",
    "\n"
   ],
   "metadata": {
    "collapsed": false,
    "ExecuteTime": {
     "end_time": "2023-12-20T16:19:07.709092Z",
     "start_time": "2023-12-20T16:19:06.319317Z"
    }
   }
  },
  {
   "cell_type": "code",
   "execution_count": 21,
   "outputs": [
    {
     "data": {
      "text/plain": "      index                                    Title Release Date  \\\n0         0                               Elden Ring         2022   \n1         1                                    Hades         2019   \n2         2  The Legend of Zelda: Breath of the Wild         2017   \n3         3                                Undertale         2015   \n4         4                            Hollow Knight         2017   \n...     ...                                      ...          ...   \n1507   1507             Back to the Future: The Game         2010   \n1508   1508                        Team Sonic Racing         2019   \n1509   1509                           Dragon's Dogma         2012   \n1510   1510                          Baldur's Gate 3         2020   \n1511   1511                 The LEGO Movie Videogame         2014   \n\n                                                 Genres Popularity  \n0                                  ['Adventure', 'RPG']    90585.0  \n1              ['Adventure', 'Brawler', 'Indie', 'RPG']    98470.0  \n2                                  ['Adventure', 'RPG']   127380.0  \n3     ['Adventure', 'Indie', 'RPG', 'Turn Based Stra...   106087.8  \n4                    ['Adventure', 'Indie', 'Platform']    98780.0  \n...                                                 ...        ...  \n1507                   ['Adventure', 'Point-and-Click']    2256.32  \n1508                               ['Arcade', 'Racing']    4120.03  \n1509                                 ['Brawler', 'RPG']    4193.21  \n1510  ['Adventure', 'RPG', 'Strategy', 'Tactical', '...    2244.75  \n1511                            ['Adventure', 'Puzzle']    4131.96  \n\n[1102 rows x 5 columns]",
      "text/html": "<div>\n<style scoped>\n    .dataframe tbody tr th:only-of-type {\n        vertical-align: middle;\n    }\n\n    .dataframe tbody tr th {\n        vertical-align: top;\n    }\n\n    .dataframe thead th {\n        text-align: right;\n    }\n</style>\n<table border=\"1\" class=\"dataframe\">\n  <thead>\n    <tr style=\"text-align: right;\">\n      <th></th>\n      <th>index</th>\n      <th>Title</th>\n      <th>Release Date</th>\n      <th>Genres</th>\n      <th>Popularity</th>\n    </tr>\n  </thead>\n  <tbody>\n    <tr>\n      <th>0</th>\n      <td>0</td>\n      <td>Elden Ring</td>\n      <td>2022</td>\n      <td>['Adventure', 'RPG']</td>\n      <td>90585.0</td>\n    </tr>\n    <tr>\n      <th>1</th>\n      <td>1</td>\n      <td>Hades</td>\n      <td>2019</td>\n      <td>['Adventure', 'Brawler', 'Indie', 'RPG']</td>\n      <td>98470.0</td>\n    </tr>\n    <tr>\n      <th>2</th>\n      <td>2</td>\n      <td>The Legend of Zelda: Breath of the Wild</td>\n      <td>2017</td>\n      <td>['Adventure', 'RPG']</td>\n      <td>127380.0</td>\n    </tr>\n    <tr>\n      <th>3</th>\n      <td>3</td>\n      <td>Undertale</td>\n      <td>2015</td>\n      <td>['Adventure', 'Indie', 'RPG', 'Turn Based Stra...</td>\n      <td>106087.8</td>\n    </tr>\n    <tr>\n      <th>4</th>\n      <td>4</td>\n      <td>Hollow Knight</td>\n      <td>2017</td>\n      <td>['Adventure', 'Indie', 'Platform']</td>\n      <td>98780.0</td>\n    </tr>\n    <tr>\n      <th>...</th>\n      <td>...</td>\n      <td>...</td>\n      <td>...</td>\n      <td>...</td>\n      <td>...</td>\n    </tr>\n    <tr>\n      <th>1507</th>\n      <td>1507</td>\n      <td>Back to the Future: The Game</td>\n      <td>2010</td>\n      <td>['Adventure', 'Point-and-Click']</td>\n      <td>2256.32</td>\n    </tr>\n    <tr>\n      <th>1508</th>\n      <td>1508</td>\n      <td>Team Sonic Racing</td>\n      <td>2019</td>\n      <td>['Arcade', 'Racing']</td>\n      <td>4120.03</td>\n    </tr>\n    <tr>\n      <th>1509</th>\n      <td>1509</td>\n      <td>Dragon's Dogma</td>\n      <td>2012</td>\n      <td>['Brawler', 'RPG']</td>\n      <td>4193.21</td>\n    </tr>\n    <tr>\n      <th>1510</th>\n      <td>1510</td>\n      <td>Baldur's Gate 3</td>\n      <td>2020</td>\n      <td>['Adventure', 'RPG', 'Strategy', 'Tactical', '...</td>\n      <td>2244.75</td>\n    </tr>\n    <tr>\n      <th>1511</th>\n      <td>1511</td>\n      <td>The LEGO Movie Videogame</td>\n      <td>2014</td>\n      <td>['Adventure', 'Puzzle']</td>\n      <td>4131.96</td>\n    </tr>\n  </tbody>\n</table>\n<p>1102 rows × 5 columns</p>\n</div>"
     },
     "execution_count": 21,
     "metadata": {},
     "output_type": "execute_result"
    }
   ],
   "source": [
    "data"
   ],
   "metadata": {
    "collapsed": false,
    "ExecuteTime": {
     "end_time": "2023-12-20T16:19:07.724866Z",
     "start_time": "2023-12-20T16:19:07.719758Z"
    }
   }
  },
  {
   "cell_type": "code",
   "execution_count": 22,
   "outputs": [
    {
     "data": {
      "text/plain": "array([6, 7, 9, 8, 2, 3, 4, 5, 1, 0])"
     },
     "execution_count": 22,
     "metadata": {},
     "output_type": "execute_result"
    }
   ],
   "source": [
    "import numpy as np\n",
    "popularity_bins = np.linspace(0, 130000, 11)\n",
    "\n",
    "data['Popularity Class'] = pd.cut(data['Popularity'], bins=popularity_bins, labels=False, right=False)\n",
    "\n",
    "data['Popularity Class'].unique()"
   ],
   "metadata": {
    "collapsed": false,
    "ExecuteTime": {
     "end_time": "2023-12-20T16:19:07.758340Z",
     "start_time": "2023-12-20T16:19:07.732864Z"
    }
   }
  },
  {
   "cell_type": "code",
   "execution_count": 23,
   "outputs": [
    {
     "data": {
      "text/plain": "      index                                    Title Release Date  \\\n0         0                               Elden Ring         2022   \n1         1                                    Hades         2019   \n2         2  The Legend of Zelda: Breath of the Wild         2017   \n3         3                                Undertale         2015   \n4         4                            Hollow Knight         2017   \n...     ...                                      ...          ...   \n1507   1507             Back to the Future: The Game         2010   \n1508   1508                        Team Sonic Racing         2019   \n1509   1509                           Dragon's Dogma         2012   \n1510   1510                          Baldur's Gate 3         2020   \n1511   1511                 The LEGO Movie Videogame         2014   \n\n                                                 Genres Popularity  \\\n0                                  ['Adventure', 'RPG']    90585.0   \n1              ['Adventure', 'Brawler', 'Indie', 'RPG']    98470.0   \n2                                  ['Adventure', 'RPG']   127380.0   \n3     ['Adventure', 'Indie', 'RPG', 'Turn Based Stra...   106087.8   \n4                    ['Adventure', 'Indie', 'Platform']    98780.0   \n...                                                 ...        ...   \n1507                   ['Adventure', 'Point-and-Click']    2256.32   \n1508                               ['Arcade', 'Racing']    4120.03   \n1509                                 ['Brawler', 'RPG']    4193.21   \n1510  ['Adventure', 'RPG', 'Strategy', 'Tactical', '...    2244.75   \n1511                            ['Adventure', 'Puzzle']    4131.96   \n\n      Popularity Class  Words in title  \n0                    6               2  \n1                    7               1  \n2                    9               8  \n3                    8               1  \n4                    7               2  \n...                ...             ...  \n1507                 0               6  \n1508                 0               3  \n1509                 0               2  \n1510                 0               3  \n1511                 0               4  \n\n[1102 rows x 7 columns]",
      "text/html": "<div>\n<style scoped>\n    .dataframe tbody tr th:only-of-type {\n        vertical-align: middle;\n    }\n\n    .dataframe tbody tr th {\n        vertical-align: top;\n    }\n\n    .dataframe thead th {\n        text-align: right;\n    }\n</style>\n<table border=\"1\" class=\"dataframe\">\n  <thead>\n    <tr style=\"text-align: right;\">\n      <th></th>\n      <th>index</th>\n      <th>Title</th>\n      <th>Release Date</th>\n      <th>Genres</th>\n      <th>Popularity</th>\n      <th>Popularity Class</th>\n      <th>Words in title</th>\n    </tr>\n  </thead>\n  <tbody>\n    <tr>\n      <th>0</th>\n      <td>0</td>\n      <td>Elden Ring</td>\n      <td>2022</td>\n      <td>['Adventure', 'RPG']</td>\n      <td>90585.0</td>\n      <td>6</td>\n      <td>2</td>\n    </tr>\n    <tr>\n      <th>1</th>\n      <td>1</td>\n      <td>Hades</td>\n      <td>2019</td>\n      <td>['Adventure', 'Brawler', 'Indie', 'RPG']</td>\n      <td>98470.0</td>\n      <td>7</td>\n      <td>1</td>\n    </tr>\n    <tr>\n      <th>2</th>\n      <td>2</td>\n      <td>The Legend of Zelda: Breath of the Wild</td>\n      <td>2017</td>\n      <td>['Adventure', 'RPG']</td>\n      <td>127380.0</td>\n      <td>9</td>\n      <td>8</td>\n    </tr>\n    <tr>\n      <th>3</th>\n      <td>3</td>\n      <td>Undertale</td>\n      <td>2015</td>\n      <td>['Adventure', 'Indie', 'RPG', 'Turn Based Stra...</td>\n      <td>106087.8</td>\n      <td>8</td>\n      <td>1</td>\n    </tr>\n    <tr>\n      <th>4</th>\n      <td>4</td>\n      <td>Hollow Knight</td>\n      <td>2017</td>\n      <td>['Adventure', 'Indie', 'Platform']</td>\n      <td>98780.0</td>\n      <td>7</td>\n      <td>2</td>\n    </tr>\n    <tr>\n      <th>...</th>\n      <td>...</td>\n      <td>...</td>\n      <td>...</td>\n      <td>...</td>\n      <td>...</td>\n      <td>...</td>\n      <td>...</td>\n    </tr>\n    <tr>\n      <th>1507</th>\n      <td>1507</td>\n      <td>Back to the Future: The Game</td>\n      <td>2010</td>\n      <td>['Adventure', 'Point-and-Click']</td>\n      <td>2256.32</td>\n      <td>0</td>\n      <td>6</td>\n    </tr>\n    <tr>\n      <th>1508</th>\n      <td>1508</td>\n      <td>Team Sonic Racing</td>\n      <td>2019</td>\n      <td>['Arcade', 'Racing']</td>\n      <td>4120.03</td>\n      <td>0</td>\n      <td>3</td>\n    </tr>\n    <tr>\n      <th>1509</th>\n      <td>1509</td>\n      <td>Dragon's Dogma</td>\n      <td>2012</td>\n      <td>['Brawler', 'RPG']</td>\n      <td>4193.21</td>\n      <td>0</td>\n      <td>2</td>\n    </tr>\n    <tr>\n      <th>1510</th>\n      <td>1510</td>\n      <td>Baldur's Gate 3</td>\n      <td>2020</td>\n      <td>['Adventure', 'RPG', 'Strategy', 'Tactical', '...</td>\n      <td>2244.75</td>\n      <td>0</td>\n      <td>3</td>\n    </tr>\n    <tr>\n      <th>1511</th>\n      <td>1511</td>\n      <td>The LEGO Movie Videogame</td>\n      <td>2014</td>\n      <td>['Adventure', 'Puzzle']</td>\n      <td>4131.96</td>\n      <td>0</td>\n      <td>4</td>\n    </tr>\n  </tbody>\n</table>\n<p>1102 rows × 7 columns</p>\n</div>"
     },
     "execution_count": 23,
     "metadata": {},
     "output_type": "execute_result"
    }
   ],
   "source": [
    "data['Words in title'] = data['Title'].apply(lambda x: len(x.split()))\n",
    "\n",
    "data"
   ],
   "metadata": {
    "collapsed": false,
    "ExecuteTime": {
     "end_time": "2023-12-20T16:19:07.845147Z",
     "start_time": "2023-12-20T16:19:07.754613Z"
    }
   }
  },
  {
   "cell_type": "code",
   "execution_count": 24,
   "outputs": [],
   "source": [
    "data['Release Date']\n",
    "\n",
    "data = data.reset_index(drop=True)\n"
   ],
   "metadata": {
    "collapsed": false,
    "ExecuteTime": {
     "end_time": "2023-12-20T16:19:07.856878Z",
     "start_time": "2023-12-20T16:19:07.761364Z"
    }
   }
  },
  {
   "cell_type": "code",
   "execution_count": 25,
   "outputs": [
    {
     "name": "stderr",
     "output_type": "stream",
     "text": [
      "2023-12-20 17:19:12.202664: I tensorflow/core/platform/cpu_feature_guard.cc:182] This TensorFlow binary is optimized to use available CPU instructions in performance-critical operations.\n",
      "To enable the following instructions: AVX2 FMA, in other operations, rebuild TensorFlow with the appropriate compiler flags.\n"
     ]
    }
   ],
   "source": [
    "import tensorflow as tf\n",
    "from sklearn.preprocessing import MultiLabelBinarizer, StandardScaler\n",
    "\n",
    "data = data.sample(frac = 1)\n",
    "\n",
    "\n",
    "mlb = MultiLabelBinarizer()\n",
    "\n",
    "genres_encoded = mlb.fit_transform(data['Genres'])\n",
    "\n",
    "genres_encoded_df = pd.DataFrame(genres_encoded, columns=mlb.classes_)\n",
    "\n",
    "data_encoded = pd.concat([data[['Words in title']],data[['Release Date']], genres_encoded_df], axis=1)\n",
    "\n",
    "\n",
    "X = data_encoded.values\n",
    "\n",
    "y = data['Popularity Class'].values\n",
    "\n",
    "\n",
    "\n",
    "\n",
    "X_train, X_test = X[:400], X[400:]\n",
    "y_train, y_test = y[:400], y[400:]\n",
    "\n",
    "y_val, y_test = y_test[:400], y_test[400:]\n",
    "X_val, X_test = X_test[:400], X_test[400:]"
   ],
   "metadata": {
    "collapsed": false,
    "ExecuteTime": {
     "end_time": "2023-12-20T16:19:16.409713Z",
     "start_time": "2023-12-20T16:19:07.770240Z"
    }
   }
  },
  {
   "cell_type": "code",
   "execution_count": 26,
   "outputs": [
    {
     "name": "stdout",
     "output_type": "stream",
     "text": [
      "READY\n",
      "OK1\n",
      "OK2\n",
      "OK3\n",
      "OK4\n"
     ]
    }
   ],
   "source": [
    "import sklearn\n",
    "import pandas as pd\n",
    "import numpy as np\n",
    "import matplotlib.pyplot as plt\n",
    "from sklearn.linear_model import LogisticRegression\n",
    "from sklearn import svm\n",
    "from sklearn.svm import SVC\n",
    "from sklearn.pipeline import Pipeline\n",
    "from sklearn.model_selection import StratifiedKFold, GridSearchCV\n",
    "from sklearn.preprocessing import StandardScaler\n",
    "from sklearn import metrics\n",
    "\n",
    "np.random.seed(1)\n",
    "\n",
    "seed = 123\n",
    "kfold = StratifiedKFold(n_splits=5, random_state=seed, shuffle=True)\n",
    "\n",
    "pipe_1 = Pipeline([('preprocessing', StandardScaler()), ('classifier', SVC())])\n",
    "pipe_2 = Pipeline([('preprocessing', StandardScaler()), ('classifier', svm.LinearSVC())])\n",
    "pipe_3 = Pipeline([('preprocessing', StandardScaler()), ('classifier', svm.SVC(kernel='poly'))])\n",
    "pipe_4 = Pipeline([('preprocessing', StandardScaler()), ('classifier', LogisticRegression(max_iter=500))])\n",
    "\n",
    "param_grid_1 = {'preprocessing': [StandardScaler(), None],\n",
    "                'classifier__C': [0.0001, 0.001, 0.01, 0.1, 1, 10, 100],\n",
    "                'classifier__gamma': [0.0001, 0.001, 0.01, 0.1, 1, 10, 100]}\n",
    "param_grid_2 = {'preprocessing': [StandardScaler(), None],\n",
    "                'classifier__C': [0.0001, 0.001, 0.01, 0.1, 1, 10, 100]}\n",
    "param_grid_3 = {'preprocessing': [StandardScaler(), None],\n",
    "                'classifier__C': [0.0001, 0.001, 0.01, 0.1, 1, 10, 100],\n",
    "                'classifier__degree': [1, 3, 7]}\n",
    "print(\"READY\")\n",
    "grid_1 = GridSearchCV(pipe_1, param_grid_1, cv=kfold, return_train_score=True)\n",
    "grid_1.fit(X_train, y_train)\n",
    "print(\"OK1\")\n",
    "grid_2 = GridSearchCV(pipe_2, param_grid_2, cv=kfold, return_train_score=True)\n",
    "grid_2.fit(X_train, y_train)\n",
    "print(\"OK2\")\n",
    "grid_3 = GridSearchCV(pipe_3, param_grid_3, cv=kfold, return_train_score=True)\n",
    "grid_3.fit(X_train, y_train)\n",
    "print(\"OK3\")\n",
    "scorer = sklearn.metrics.make_scorer(sklearn.metrics.f1_score, average='weighted')\n",
    "\n",
    "grid_4 = GridSearchCV(pipe_4, param_grid_2, scoring=scorer, cv=kfold, return_train_score=True)\n",
    "grid_4.fit(X_train, y_train)\n",
    "\n",
    "print(\"OK4\")\n",
    "\n",
    "\n",
    "\n",
    "\n",
    "\n"
   ],
   "metadata": {
    "collapsed": false,
    "ExecuteTime": {
     "end_time": "2023-12-20T16:20:04.063081Z",
     "start_time": "2023-12-20T16:19:16.429294Z"
    }
   }
  },
  {
   "cell_type": "code",
   "execution_count": 27,
   "outputs": [
    {
     "name": "stdout",
     "output_type": "stream",
     "text": [
      "tf.Tensor(\n",
      "[0. 0. 1. 0. 0. 0. 0. 2. 1. 0. 2. 0. 0. 0. 2. 1. 0. 1. 2. 0. 1. 1. 0. 0.\n",
      " 0. 1. 5. 0. 2. 0. 0. 3. 0. 0. 5. 0. 3. 2. 0. 0. 0. 0. 0. 0. 0. 0. 4. 2.\n",
      " 0. 0. 2. 2. 2. 4. 1. 1. 0. 3. 3. 0. 1. 1. 0. 0. 0. 0. 0. 0. 0. 1. 2. 0.\n",
      " 0. 0. 0. 1. 1. 1. 1. 1. 4. 0. 3. 1. 1. 1. 0. 1. 1. 0. 2. 1. 0. 2. 1. 0.\n",
      " 0. 0. 1. 0. 0. 3. 0. 0. 0. 0. 0. 0. 0. 1. 0. 0. 1. 0. 3. 5. 7. 0. 1. 2.\n",
      " 5. 4. 0. 0. 0. 0. 0. 1. 0. 0. 0. 0. 2. 1. 0. 0. 2. 0. 2. 3. 0. 0. 0. 1.\n",
      " 0. 1. 2. 0. 1. 0. 0. 1. 2. 2. 2. 1. 2. 0. 1. 2. 0. 0. 1. 0. 2. 0. 0. 2.\n",
      " 0. 1. 2. 1. 1. 0. 0. 1. 0. 1. 4. 2. 0. 0. 0. 5. 1. 0. 0. 0. 2. 0. 1. 0.\n",
      " 1. 0. 7. 0. 2. 1. 1. 0. 8. 1. 3. 2. 0. 0. 0. 0. 0. 2. 2. 0. 0. 1. 6. 0.\n",
      " 0. 2. 1. 0. 2. 0. 0. 1. 0. 1. 4. 1. 0. 0. 3. 0. 2. 0. 0. 4. 0. 2. 1. 0.\n",
      " 0. 0. 0. 0. 0. 0. 1. 0. 0. 1. 0. 3. 2. 1. 0. 5. 2. 0. 1. 1. 0. 2. 0. 0.\n",
      " 2. 0. 0. 2. 2. 4. 0. 0. 1. 0. 0. 3. 0. 0. 3. 1. 0. 0. 0. 0. 1. 2. 1. 0.\n",
      " 0. 0. 2. 1. 0. 0. 0. 1. 0. 0. 0. 0. 2. 1. 1. 0. 0. 0. 0. 0. 3. 0. 2. 0.\n",
      " 0. 0. 0. 3. 1. 0. 1. 2. 3. 1. 0. 1. 0. 1. 1. 0. 1. 0. 2. 2. 0. 0. 0. 1.\n",
      " 1. 0. 3. 7. 0. 0. 0. 0. 0. 1. 0. 0. 1. 4. 0. 3. 2. 3. 0. 1. 0. 0. 0. 0.\n",
      " 1. 0. 0. 0. 3. 0. 0. 0. 1. 1. 0. 0. 0. 0. 0. 1. 0. 0. 0. 5. 0. 0. 0. 1.\n",
      " 0. 0. 1. 1. 1. 0. 0. 0. 0. 1. 0. 0. 0. 1. 0. 0.], shape=(400,), dtype=float32)\n",
      "tf.Tensor(\n",
      "[0. 1. 3. 0. 0. 0. 0. 0. 1. 2. 0. 0. 0. 0. 3. 3. 0. 0. 4. 0. 1. 0. 1. 1.\n",
      " 4. 0. 9. 0. 1. 1. 1. 1. 0. 1. 2. 0. 1. 0. 1. 0. 1. 0. 0. 1. 3. 0. 2. 3.\n",
      " 0. 1. 6. 4. 0. 5. 0. 0. 0. 1. 0. 1. 3. 2. 2. 0. 1. 0. 1. 0. 0. 1. 0. 2.\n",
      " 3. 1. 0. 3. 0. 1. 1. 1. 0. 0. 1. 1. 0. 0. 0. 2. 0. 0. 2. 0. 0. 5. 1. 0.\n",
      " 1. 2. 0. 1. 0. 0. 2. 0. 0. 0. 1. 1. 0. 0. 0. 1. 0. 0. 0. 3. 0. 2. 1. 1.\n",
      " 0. 0. 1. 1. 1. 0. 0. 2. 0. 0. 0. 0. 3. 1. 0. 2. 1. 7. 0. 0. 0. 0. 0. 2.\n",
      " 0. 1. 0. 1. 0. 0. 0. 1. 1. 0. 1. 0. 0. 0. 1. 0. 0. 0. 1. 0. 3. 0. 0. 1.\n",
      " 0. 0. 3. 1. 0. 8. 1. 0. 2. 0. 1. 1. 4. 2. 0. 0. 0. 1. 0. 0. 1. 0. 0. 4.\n",
      " 1. 0. 0. 0. 3. 1. 0. 1. 0. 0. 2. 0. 2. 0. 1. 1. 2. 0. 3. 0. 0. 0. 0. 1.\n",
      " 0. 1. 0. 0. 0. 0. 0. 0. 0. 0. 1. 0. 4. 1. 0. 0. 2. 0. 0. 0. 1. 0. 0. 0.\n",
      " 1. 2. 3. 1. 0. 2. 1. 3. 0. 0. 0. 3. 0. 0. 1. 2. 0. 1. 0. 1. 0. 1. 1. 1.\n",
      " 0. 2. 0. 0. 0. 2. 0. 3. 0. 1. 1. 1. 0. 1. 0. 1. 0. 0. 6. 0. 1. 0. 0. 2.\n",
      " 2. 0. 1. 1. 0. 0. 0. 1. 0. 0. 0. 1. 1. 1.], shape=(302,), dtype=float32)\n",
      "tf.Tensor(\n",
      "[0. 1. 3. 0. 0. 1. 0. 0. 0. 1. 1. 3. 0. 1. 1. 0. 0. 0. 2. 0. 0. 0. 2. 0.\n",
      " 2. 2. 0. 2. 0. 1. 2. 0. 2. 0. 0. 0. 4. 1. 0. 0. 0. 0. 0. 0. 0. 0. 1. 0.\n",
      " 1. 2. 2. 0. 0. 0. 1. 0. 0. 1. 1. 0. 0. 0. 1. 2. 2. 0. 1. 1. 0. 0. 0. 1.\n",
      " 2. 1. 0. 3. 0. 0. 3. 6. 0. 0. 0. 0. 0. 2. 2. 0. 0. 0. 3. 0. 0. 0. 1. 3.\n",
      " 4. 0. 0. 1. 1. 0. 2. 0. 1. 0. 0. 0. 0. 0. 2. 2. 3. 2. 2. 5. 1. 2. 3. 0.\n",
      " 1. 0. 1. 2. 0. 0. 0. 3. 9. 0. 0. 0. 0. 0. 3. 1. 0. 2. 4. 4. 0. 1. 0. 0.\n",
      " 0. 0. 0. 1. 0. 3. 0. 0. 6. 1. 0. 0. 0. 7. 0. 0. 0. 0. 6. 1. 0. 2. 0. 1.\n",
      " 2. 4. 3. 0. 0. 1. 1. 1. 1. 0. 1. 1. 0. 1. 0. 1. 3. 2. 0. 3. 2. 0. 1. 0.\n",
      " 1. 2. 1. 2. 0. 0. 1. 0. 1. 0. 0. 1. 2. 0. 0. 0. 0. 1. 1. 0. 0. 0. 0. 0.\n",
      " 0. 0. 3. 0. 0. 1. 2. 0. 4. 5. 0. 0. 2. 6. 3. 2. 0. 0. 0. 0. 1. 1. 1. 0.\n",
      " 0. 1. 1. 1. 0. 0. 2. 0. 0. 1. 0. 0. 0. 0. 1. 0. 1. 0. 1. 1. 5. 1. 0. 2.\n",
      " 3. 3. 1. 0. 1. 0. 0. 1. 0. 0. 2. 0. 2. 0. 0. 1. 0. 3. 0. 1. 1. 6. 1. 1.\n",
      " 1. 1. 0. 1. 0. 3. 4. 0. 0. 2. 0. 3. 0. 1. 0. 2. 0. 0. 0. 1. 2. 0. 0. 0.\n",
      " 1. 1. 0. 1. 3. 1. 5. 4. 0. 4. 0. 0. 3. 6. 0. 0. 1. 0. 0. 3. 0. 4. 0. 0.\n",
      " 1. 1. 0. 1. 0. 0. 1. 0. 0. 1. 2. 0. 4. 2. 0. 3. 0. 0. 1. 0. 0. 1. 0. 1.\n",
      " 3. 0. 0. 1. 0. 0. 1. 2. 1. 0. 0. 0. 4. 0. 0. 1. 1. 0. 0. 0. 0. 0. 0. 2.\n",
      " 1. 1. 0. 1. 0. 0. 0. 2. 2. 0. 3. 0. 3. 0. 0. 1.], shape=(400,), dtype=float32)\n",
      "Model: \"sequential\"\n",
      "_________________________________________________________________\n",
      " Layer (type)                Output Shape              Param #   \n",
      "=================================================================\n",
      " dense (Dense)               (None, 100)               4900      \n",
      "                                                                 \n",
      " dense_1 (Dense)             (None, 50)                5050      \n",
      "                                                                 \n",
      " dense_2 (Dense)             (None, 20)                1020      \n",
      "                                                                 \n",
      " dense_3 (Dense)             (None, 10)                210       \n",
      "                                                                 \n",
      "=================================================================\n",
      "Total params: 11,180\n",
      "Trainable params: 11,180\n",
      "Non-trainable params: 0\n",
      "_________________________________________________________________\n",
      "Epoch 1/100\n",
      "13/13 [==============================] - 1s 22ms/step - loss: 2.6398 - accuracy: 0.0100 - val_loss: 2.3971 - val_accuracy: 0.0175\n",
      "Epoch 2/100\n",
      "13/13 [==============================] - 0s 5ms/step - loss: 2.2568 - accuracy: 0.0100 - val_loss: 2.0737 - val_accuracy: 0.0175\n",
      "Epoch 3/100\n",
      "13/13 [==============================] - 0s 5ms/step - loss: 1.9978 - accuracy: 0.0725 - val_loss: 1.8563 - val_accuracy: 0.5500\n",
      "Epoch 4/100\n",
      "13/13 [==============================] - 0s 6ms/step - loss: 1.8209 - accuracy: 0.5200 - val_loss: 1.7078 - val_accuracy: 0.5500\n",
      "Epoch 5/100\n",
      "13/13 [==============================] - 0s 5ms/step - loss: 1.7028 - accuracy: 0.5200 - val_loss: 1.5983 - val_accuracy: 0.5500\n",
      "Epoch 6/100\n",
      "13/13 [==============================] - 0s 5ms/step - loss: 1.6110 - accuracy: 0.5200 - val_loss: 1.5221 - val_accuracy: 0.5500\n",
      "Epoch 7/100\n",
      "13/13 [==============================] - 0s 5ms/step - loss: 1.5502 - accuracy: 0.5200 - val_loss: 1.4640 - val_accuracy: 0.5500\n",
      "Epoch 8/100\n",
      "13/13 [==============================] - 0s 5ms/step - loss: 1.5024 - accuracy: 0.5200 - val_loss: 1.4231 - val_accuracy: 0.5500\n",
      "Epoch 9/100\n",
      "13/13 [==============================] - 0s 5ms/step - loss: 1.4688 - accuracy: 0.5200 - val_loss: 1.3947 - val_accuracy: 0.5500\n",
      "Epoch 10/100\n",
      "13/13 [==============================] - 0s 5ms/step - loss: 1.4437 - accuracy: 0.5200 - val_loss: 1.3719 - val_accuracy: 0.5500\n",
      "Epoch 11/100\n",
      "13/13 [==============================] - 0s 5ms/step - loss: 1.4236 - accuracy: 0.5200 - val_loss: 1.3578 - val_accuracy: 0.5500\n",
      "Epoch 12/100\n",
      "13/13 [==============================] - 0s 5ms/step - loss: 1.4108 - accuracy: 0.5200 - val_loss: 1.3469 - val_accuracy: 0.5500\n",
      "Epoch 13/100\n",
      "13/13 [==============================] - 0s 5ms/step - loss: 1.4008 - accuracy: 0.5200 - val_loss: 1.3360 - val_accuracy: 0.5500\n",
      "Epoch 14/100\n",
      "13/13 [==============================] - 0s 5ms/step - loss: 1.3930 - accuracy: 0.5200 - val_loss: 1.3303 - val_accuracy: 0.5500\n",
      "Epoch 15/100\n",
      "13/13 [==============================] - 0s 5ms/step - loss: 1.3880 - accuracy: 0.5200 - val_loss: 1.3264 - val_accuracy: 0.5500\n",
      "Epoch 16/100\n",
      "13/13 [==============================] - 0s 5ms/step - loss: 1.3823 - accuracy: 0.5200 - val_loss: 1.3218 - val_accuracy: 0.5500\n",
      "Epoch 17/100\n",
      "13/13 [==============================] - 0s 5ms/step - loss: 1.3805 - accuracy: 0.5200 - val_loss: 1.3189 - val_accuracy: 0.5500\n",
      "Epoch 18/100\n",
      "13/13 [==============================] - 0s 5ms/step - loss: 1.3770 - accuracy: 0.5200 - val_loss: 1.3199 - val_accuracy: 0.5500\n",
      "Epoch 19/100\n",
      "13/13 [==============================] - 0s 5ms/step - loss: 1.3741 - accuracy: 0.5200 - val_loss: 1.3169 - val_accuracy: 0.5500\n",
      "Epoch 20/100\n",
      "13/13 [==============================] - 0s 5ms/step - loss: 1.3725 - accuracy: 0.5200 - val_loss: 1.3158 - val_accuracy: 0.5500\n",
      "Epoch 21/100\n",
      "13/13 [==============================] - 0s 5ms/step - loss: 1.3705 - accuracy: 0.5200 - val_loss: 1.3142 - val_accuracy: 0.5500\n",
      "Epoch 22/100\n",
      "13/13 [==============================] - 0s 6ms/step - loss: 1.3694 - accuracy: 0.5200 - val_loss: 1.3140 - val_accuracy: 0.5500\n",
      "Epoch 23/100\n",
      "13/13 [==============================] - 0s 5ms/step - loss: 1.3681 - accuracy: 0.5200 - val_loss: 1.3128 - val_accuracy: 0.5500\n",
      "Epoch 24/100\n",
      "13/13 [==============================] - 0s 5ms/step - loss: 1.3683 - accuracy: 0.5200 - val_loss: 1.3109 - val_accuracy: 0.5500\n",
      "Epoch 25/100\n",
      "13/13 [==============================] - 0s 5ms/step - loss: 1.3667 - accuracy: 0.5200 - val_loss: 1.3130 - val_accuracy: 0.5500\n",
      "Epoch 26/100\n",
      "13/13 [==============================] - 0s 5ms/step - loss: 1.3660 - accuracy: 0.5200 - val_loss: 1.3129 - val_accuracy: 0.5500\n",
      "Epoch 27/100\n",
      "13/13 [==============================] - 0s 5ms/step - loss: 1.3655 - accuracy: 0.5200 - val_loss: 1.3131 - val_accuracy: 0.5500\n",
      "Epoch 28/100\n",
      "13/13 [==============================] - 0s 5ms/step - loss: 1.3649 - accuracy: 0.5200 - val_loss: 1.3133 - val_accuracy: 0.5500\n",
      "Epoch 29/100\n",
      "13/13 [==============================] - 0s 5ms/step - loss: 1.3643 - accuracy: 0.5200 - val_loss: 1.3136 - val_accuracy: 0.5500\n",
      "Epoch 30/100\n",
      "13/13 [==============================] - 0s 5ms/step - loss: 1.3638 - accuracy: 0.5200 - val_loss: 1.3118 - val_accuracy: 0.5500\n",
      "Epoch 31/100\n",
      "13/13 [==============================] - 0s 5ms/step - loss: 1.3636 - accuracy: 0.5200 - val_loss: 1.3131 - val_accuracy: 0.5500\n",
      "Epoch 31: early stopping\n",
      "10/10 [==============================] - 0s 1ms/step - loss: 1.2911 - accuracy: 0.5298\n",
      "Loss: 1.2911407947540283\n",
      "Accuracy: 0.5298013091087341\n"
     ]
    }
   ],
   "source": [
    "import pandas as pd\n",
    "\n",
    "from keras.callbacks import EarlyStopping\n",
    "from keras.layers import Dense\n",
    "from keras import Sequential\n",
    "\n",
    "X_train = tf.constant(X_train, dtype=tf.float32)\n",
    "X_test = tf.constant(X_test, dtype=tf.float32)\n",
    "X_val = tf.constant(X_val, dtype=tf.float32)\n",
    "y_train = tf.constant(y_train, dtype=tf.float32)\n",
    "y_test = tf.constant(y_test, dtype=tf.float32)\n",
    "y_val = tf.constant(y_val, dtype=tf.float32)\n",
    "\n",
    "\n",
    "print(y_val)\n",
    "print(y_test)\n",
    "print(y_train)\n",
    "\n",
    "y_train = tf.keras.utils.to_categorical(y_train, num_classes=10)\n",
    "y_test = tf.keras.utils.to_categorical(y_test, num_classes=10)\n",
    "y_val = tf.keras.utils.to_categorical(y_val, num_classes=10)\n",
    "\n",
    "\n",
    "modelNN = Sequential()\n",
    "modelNN.add(Dense(100, activation=\"sigmoid\", input_shape=(X_train.shape[1],)))\n",
    "modelNN.add(Dense(50, activation=\"sigmoid\"))\n",
    "modelNN.add(Dense(20, activation=\"sigmoid\"))\n",
    "modelNN.add(Dense(10, activation=\"sigmoid\"))\n",
    "modelNN.summary()\n",
    "\n",
    "modelNN.compile(loss=\"categorical_crossentropy\", optimizer=\"Adam\", metrics=[\"accuracy\"])\n",
    "\n",
    "early_stopping = EarlyStopping(monitor='val_loss', patience=7, mode='min', verbose=1)\n",
    "modelNN.fit(X_train, y_train, validation_data=(X_val, y_val), batch_size=32, epochs=100, callbacks=[early_stopping])\n",
    "\n",
    "evaluation = modelNN.evaluate(X_test, y_test)\n",
    "print(\"Loss:\", evaluation[0])\n",
    "print(\"Accuracy:\", evaluation[1])"
   ],
   "metadata": {
    "collapsed": false,
    "ExecuteTime": {
     "end_time": "2023-12-20T16:20:07.913009Z",
     "start_time": "2023-12-20T16:20:04.068341Z"
    }
   }
  },
  {
   "cell_type": "code",
   "execution_count": 28,
   "outputs": [
    {
     "name": "stdout",
     "output_type": "stream",
     "text": [
      "SVM rbf\n",
      "Precision score: 0.3484777572367959\n",
      "Recall score: 0.5066225165562914\n",
      "F1 score: 0.37864171138983144\n",
      "Accuracy score: 0.5066225165562914\n",
      "SVM linear\n",
      "Precision score: 0.00039471952984518224\n",
      "Recall score: 0.019867549668874173\n",
      "F1 score: 0.0007740603767093833\n",
      "Accuracy score: 0.019867549668874173\n",
      "SVM poly\n",
      "Precision score: 0.2806894434454629\n",
      "Recall score: 0.5298013245033113\n",
      "F1 score: 0.36696195636592993\n",
      "Accuracy score: 0.5298013245033113\n",
      "LogisticRegression\n",
      "Precision score: 0.35916901705950327\n",
      "Recall score: 0.48344370860927155\n",
      "F1 score: 0.40176664408627116\n",
      "Accuracy score: 0.48344370860927155\n",
      "Neural Network\n",
      "10/10 [==============================] - 0s 1ms/step\n",
      "Precision score: 0.2806894434454629\n",
      "Recall score: 0.5298013245033113\n",
      "F1 score: 0.36696195636592993\n",
      "Accuracy score: 0.5298013245033113\n"
     ]
    },
    {
     "data": {
      "text/plain": "<Figure size 640x480 with 1 Axes>",
      "image/png": "[encoded data removed]"
     },
     "metadata": {},
     "output_type": "display_data"
    }
   ],
   "source": [
    "\n",
    "models = []\n",
    "models.append(('SVM rbf', grid_1.best_estimator_))\n",
    "models.append(('SVM linear', grid_2.best_estimator_))\n",
    "models.append(('SVM poly', grid_3.best_estimator_))\n",
    "models.append(('LogisticRegression', grid_4.best_estimator_))\n",
    "models.append(('Neural Network', modelNN))\n",
    "\n",
    "metrics_dict = {'precision_score': [],\n",
    "                'recall_score': [],\n",
    "                'f1_score': [],\n",
    "                'accuracy_score': []}\n",
    "\n",
    "y_test_classes = np.argmax(y_test, axis=1)\n",
    "\n",
    "for name, model in models:\n",
    "    print(name)\n",
    "    if name == 'Neural Network':\n",
    "        y_pred = np.argmax(model.predict(X_test), axis=1)\n",
    "    else:\n",
    "        y_pred = model.predict(X_test)\n",
    "\n",
    "    precision = metrics.precision_score(y_test_classes, y_pred, average='weighted')\n",
    "    recall = metrics.recall_score(y_test_classes, y_pred, average='weighted')\n",
    "    f1 = metrics.f1_score(y_test_classes, y_pred, average='weighted')\n",
    "    accuracy = metrics.accuracy_score(y_test_classes, y_pred)\n",
    "\n",
    "    print(\"Precision score:\", precision)\n",
    "    print(\"Recall score:\", recall)\n",
    "    print(\"F1 score:\", f1)\n",
    "    print(\"Accuracy score:\", accuracy)\n",
    "\n",
    "    metrics_dict['precision_score'].append(precision)\n",
    "    metrics_dict['recall_score'].append(recall)\n",
    "    metrics_dict['f1_score'].append(f1)\n",
    "    metrics_dict['accuracy_score'].append(accuracy)\n",
    "\n",
    "df = pd.DataFrame(data=metrics_dict, index=['SVM rbf', 'SVM linear', 'SVM poly', 'Logistic Regression', 'Neural Network'])\n",
    "\n",
    "df.plot(kind='bar')\n",
    "plt.title('Comparison of Models')\n",
    "plt.xlabel('Model')\n",
    "plt.ylabel('Score')\n",
    "plt.legend(loc='lower right')\n",
    "plt.show()\n"
   ],
   "metadata": {
    "collapsed": false,
    "ExecuteTime": {
     "end_time": "2023-12-20T16:20:08.659402Z",
     "start_time": "2023-12-20T16:20:07.918164Z"
    }
   }
  }
 ],
 "metadata": {
  "kernelspec": {
   "display_name": "Python 3",
   "language": "python",
   "name": "python3"
  },
  "language_info": {
   "codemirror_mode": {
    "name": "ipython",
    "version": 2
   },
   "file_extension": ".py",
   "mimetype": "text/x-python",
   "name": "python",
   "nbconvert_exporter": "python",
   "pygments_lexer": "ipython2",
   "version": "2.7.6"
  }
 },
 "nbformat": 4,
 "nbformat_minor": 0
}
